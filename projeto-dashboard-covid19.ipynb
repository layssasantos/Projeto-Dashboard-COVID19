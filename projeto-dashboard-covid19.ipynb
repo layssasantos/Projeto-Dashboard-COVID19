{
 "cells": [
  {
   "cell_type": "markdown",
   "id": "2562d212",
   "metadata": {
    "id": "KJqp9AANOCtf",
    "papermill": {
     "duration": 0.014811,
     "end_time": "2023-11-23T19:19:07.512350",
     "exception": false,
     "start_time": "2023-11-23T19:19:07.497539",
     "status": "completed"
    },
    "tags": []
   },
   "source": [
    "<img src=\"https://raw.githubusercontent.com/andre-marcos-perez/ebac-course-utils/main/media/logo/newebac_logo_black_half.png\" alt=\"ebac-logo\">\n",
    "\n",
    "---\n",
    "\n",
    "Projeto: Dashboard de Dados da COVID-19 <br>\n",
    "Professor [André Perez](https://www.linkedin.com/in/andremarcosperez/)<br>Aluna [Layssa Santos](https://www.linkedin.com/in/layssa-santos)\n",
    "\n",
    "---"
   ]
  },
  {
   "cell_type": "markdown",
   "id": "1da050cc",
   "metadata": {
    "id": "GABI6OW8OfQ2",
    "papermill": {
     "duration": 0.013788,
     "end_time": "2023-11-23T19:19:07.541011",
     "exception": false,
     "start_time": "2023-11-23T19:19:07.527223",
     "status": "completed"
    },
    "tags": []
   },
   "source": [
    "# **Projeto | Dashboard Covid-19**\n",
    "\n"
   ]
  },
  {
   "cell_type": "markdown",
   "id": "60404dc3",
   "metadata": {
    "id": "SmoHgt-lwkpD",
    "papermill": {
     "duration": 0.013745,
     "end_time": "2023-11-23T19:19:07.568729",
     "exception": false,
     "start_time": "2023-11-23T19:19:07.554984",
     "status": "completed"
    },
    "tags": []
   },
   "source": [
    "---"
   ]
  },
  {
   "cell_type": "markdown",
   "id": "d514cd05",
   "metadata": {
    "id": "d9jDtUbDOE1-",
    "papermill": {
     "duration": 0.013613,
     "end_time": "2023-11-23T19:19:07.596250",
     "exception": false,
     "start_time": "2023-11-23T19:19:07.582637",
     "status": "completed"
    },
    "tags": []
   },
   "source": [
    "# **Tópicos**\n",
    "\n",
    "<ol type=\"1\">\n",
    "  <li>Introdução;</li>\n",
    "  <li>Análise Exploratória de Dados;</li>\n",
    "  <li>Exploração Interativa de Dados;</li>\n",
    "</ol>\n"
   ]
  },
  {
   "cell_type": "markdown",
   "id": "0003eebf",
   "metadata": {
    "id": "zMN1Q3jdwoJm",
    "papermill": {
     "duration": 0.013738,
     "end_time": "2023-11-23T19:19:07.623824",
     "exception": false,
     "start_time": "2023-11-23T19:19:07.610086",
     "status": "completed"
    },
    "tags": []
   },
   "source": [
    "---"
   ]
  },
  {
   "cell_type": "markdown",
   "id": "4eb4807b",
   "metadata": {
    "id": "QRcqbpLpFK5o",
    "papermill": {
     "duration": 0.013986,
     "end_time": "2023-11-23T19:19:07.652200",
     "exception": false,
     "start_time": "2023-11-23T19:19:07.638214",
     "status": "completed"
    },
    "tags": []
   },
   "source": [
    "# **1. Introdução**"
   ]
  },
  {
   "cell_type": "markdown",
   "id": "32cb37e2",
   "metadata": {
    "id": "9h99ZOi6AVbR",
    "papermill": {
     "duration": 0.015616,
     "end_time": "2023-11-23T19:19:07.682199",
     "exception": false,
     "start_time": "2023-11-23T19:19:07.666583",
     "status": "completed"
    },
    "tags": []
   },
   "source": [
    "**TLDR**\n",
    "\n",
    "*   Dashboard: Google Data Studio ([link](https://lookerstudio.google.com/reporting/fc17b17b-91fd-45dd-b366-e123f9e36ece)).\n",
    "*   Processamento: Kaggle Notebook (link).\n",
    "*   Fonte de dados: Universidade de Oxford ([link](https://covid.ourworldindata.org/data/owid-covid-data.csv));\n",
    " Universidade John Hopkins ([link](https://github.com/CSSEGISandData/COVID-19/tree/master/csse_covid_19_data/csse_covid_19_daily_reports))"
   ]
  },
  {
   "cell_type": "markdown",
   "id": "6ee4c4e7",
   "metadata": {
    "id": "6-CvdKwqFPiW",
    "papermill": {
     "duration": 0.013752,
     "end_time": "2023-11-23T19:19:07.710279",
     "exception": false,
     "start_time": "2023-11-23T19:19:07.696527",
     "status": "completed"
    },
    "tags": []
   },
   "source": [
    "## 1.1\\. Contexto"
   ]
  },
  {
   "cell_type": "markdown",
   "id": "281d4bd5",
   "metadata": {
    "id": "XRURE1uUFXGw",
    "papermill": {
     "duration": 0.013624,
     "end_time": "2023-11-23T19:19:07.737795",
     "exception": false,
     "start_time": "2023-11-23T19:19:07.724171",
     "status": "completed"
    },
    "tags": []
   },
   "source": [
    "> A COVID-19 é uma infecção respiratória aguda causada pelo coronavírus SARS-CoV-2, potencialmente grave, de elevada transmissibilidade e de distribuição global.\n",
    "\n",
    "Fonte: Governo brasileiro ([link](https://www.gov.br/saude/pt-br/coronavirus/o-que-e-o-coronavirus))."
   ]
  },
  {
   "cell_type": "markdown",
   "id": "e8fa8272",
   "metadata": {
    "id": "H9CEW69D9K8s",
    "papermill": {
     "duration": 0.01371,
     "end_time": "2023-11-23T19:19:07.765306",
     "exception": false,
     "start_time": "2023-11-23T19:19:07.751596",
     "status": "completed"
    },
    "tags": []
   },
   "source": [
    "A disponibilidade de dados sobre a evolução da pandemia no tempo em uma determinada região geográfica é fundamental para o seu combate! Este projeto busca construir um dashboard de dados para exploração e visualização interativa de dados sobre o avanço de casos e da vacinação do Brasil. O processamento de dados está neste `link` e o dashboard, neste [link](https://lookerstudio.google.com/reporting/fc17b17b-91fd-45dd-b366-e123f9e36ece)."
   ]
  },
  {
   "cell_type": "markdown",
   "id": "1a86f802",
   "metadata": {
    "id": "vjZRefP9PoVA",
    "papermill": {
     "duration": 0.014094,
     "end_time": "2023-11-23T19:19:07.793374",
     "exception": false,
     "start_time": "2023-11-23T19:19:07.779280",
     "status": "completed"
    },
    "tags": []
   },
   "source": [
    "## 1.2\\. Sobre os Dados"
   ]
  },
  {
   "cell_type": "markdown",
   "id": "7ab632a6",
   "metadata": {
    "id": "7UmRyc0nPvzv",
    "papermill": {
     "duration": 0.069992,
     "end_time": "2023-11-23T19:19:07.877419",
     "exception": false,
     "start_time": "2023-11-23T19:19:07.807427",
     "status": "completed"
    },
    "tags": []
   },
   "source": [
    "Neste projeto serão utilizados dois conjuntos de dados distintos, são eles:\n",
    "\n",
    "1.   Os casos da COVID-19\n",
    "2.   A Vacinação da COVID 19\n",
    "\n"
   ]
  },
  {
   "cell_type": "markdown",
   "id": "03f48e03",
   "metadata": {
    "id": "xJAaY88vO6f4",
    "papermill": {
     "duration": 0.013934,
     "end_time": "2023-11-23T19:19:07.907319",
     "exception": false,
     "start_time": "2023-11-23T19:19:07.893385",
     "status": "completed"
    },
    "tags": []
   },
   "source": [
    "Os dados sobre **casos da COVID-19** são compilados pelo centro de ciência de sistemas e engenharia da universidade americana **John Hopkins** ([link](https://www.jhu.edu)). Os dados são atualizados diariamente deste janeiro de 2020 com uma granularidade temporal de dias e geográfica de regiões de países (estados, condados, etc.). O website do projeto pode ser acessado neste [link](https://systems.jhu.edu/research/public-health/ncov/) enquanto os dados, neste [link](https://github.com/CSSEGISandData/COVID-19/tree/master/csse_covid_19_data/csse_covid_19_daily_reports). Abaixo estão descritos os dados derivados do seu processamento."
   ]
  },
  {
   "cell_type": "markdown",
   "id": "d82d3e84",
   "metadata": {
    "id": "7hKS37TRwvG7",
    "papermill": {
     "duration": 0.014088,
     "end_time": "2023-11-23T19:19:07.935599",
     "exception": false,
     "start_time": "2023-11-23T19:19:07.921511",
     "status": "completed"
    },
    "tags": []
   },
   "source": [
    " - **date**: data de referência;\n",
    " - **state**: estado;\n",
    " - **country**: país;\n",
    " - **population**: população estimada;\n",
    " - **confirmed**: número acumulado de infectados;\n",
    " - **confirmed_1d**: número diário de infectados;\n",
    " - **confirmed_moving_avg_7d**: média móvel de 7 dias do número diário de infectados;\n",
    " - **confirmed_moving_avg_7d_rate_14d**: média móvel de 7 dias dividido pela média móvel de 7 dias de 14 dias atrás;\n",
    " - **deaths**: número acumulado de mortos;\n",
    " - **deaths_1d**: número diário de mortos;\n",
    " - **deaths_moving_avg_7d**: média móvel de 7 dias do número diário de mortos;\n",
    " - **deaths_moving_avg_7d**: média móvel de 7 dias dividido pela média móvel de 7 dias de 14 dias atrás;\n",
    " - **month**: mês de referência;\n",
    " - **year**: ano de referência."
   ]
  },
  {
   "cell_type": "markdown",
   "id": "0a2d0534",
   "metadata": {
    "id": "Io6Yn0Yi7woI",
    "papermill": {
     "duration": 0.013798,
     "end_time": "2023-11-23T19:19:07.963640",
     "exception": false,
     "start_time": "2023-11-23T19:19:07.949842",
     "status": "completed"
    },
    "tags": []
   },
   "source": [
    "Os dados sobre **vacinação da COVID-19** são compilados pelo projeto Nosso Mundo em Dados (*Our World in Data* ou OWID) da universidade britânica de **Oxford** ([link](https://www.ox.ac.uk)). Os dados são **atualizados diariamente** deste janeiro de 2020 com uma **granularidade temporal de dias e geográfica de países**. O website do projeto pode ser acessado neste [link](https://ourworldindata.org) enquanto os dados, neste [link](https://covid.ourworldindata.org/data/owid-covid-data.csv). Abaixo estão descritos os dados derivados do seu processamento."
   ]
  },
  {
   "cell_type": "markdown",
   "id": "bd46dd84",
   "metadata": {
    "id": "oF5oDfm07woK",
    "papermill": {
     "duration": 0.013869,
     "end_time": "2023-11-23T19:19:07.991632",
     "exception": false,
     "start_time": "2023-11-23T19:19:07.977763",
     "status": "completed"
    },
    "tags": []
   },
   "source": [
    " - **date**: data de referência;\n",
    " - **country**: país;\n",
    " - **population**: população estimada;\n",
    " - **total**: número acumulado de doses administradas;\n",
    " - **one_shot**: número acumulado de pessoas com uma dose;\n",
    " - **one_shot_perc**: número acumulado relativo de pessoas com uma dose;\n",
    " - **two_shots**: número acumulado de pessoas com duas doses;\n",
    " - **two_shot_perc**: número acumulado relativo de pessoas com duas doses;\n",
    " - **three_shots**: número acumulado de pessoas com três doses;\n",
    " - **three_shot_perc**: número acumulado relativo de pessoas com três doses;\n",
    " - **month**: mês de referência;\n",
    " - **year**: ano de referência."
   ]
  },
  {
   "cell_type": "markdown",
   "id": "508f8a36",
   "metadata": {
    "id": "E3Zf8gR7TaXQ",
    "papermill": {
     "duration": 0.013935,
     "end_time": "2023-11-23T19:19:08.019833",
     "exception": false,
     "start_time": "2023-11-23T19:19:08.005898",
     "status": "completed"
    },
    "tags": []
   },
   "source": [
    "# **2. Análise exploratória de Dados**"
   ]
  },
  {
   "cell_type": "code",
   "execution_count": 1,
   "id": "18e4f9b8",
   "metadata": {
    "execution": {
     "iopub.execute_input": "2023-11-23T19:19:08.050391Z",
     "iopub.status.busy": "2023-11-23T19:19:08.049620Z",
     "iopub.status.idle": "2023-11-23T19:19:08.424918Z",
     "shell.execute_reply": "2023-11-23T19:19:08.423881Z"
    },
    "id": "zxqms5Yf7bS8",
    "papermill": {
     "duration": 0.393366,
     "end_time": "2023-11-23T19:19:08.427332",
     "exception": false,
     "start_time": "2023-11-23T19:19:08.033966",
     "status": "completed"
    },
    "tags": []
   },
   "outputs": [],
   "source": [
    "# Pacotes\n",
    "\n",
    "import math\n",
    "from typing import Iterator\n",
    "from datetime import datetime, timedelta\n",
    "\n",
    "import numpy as np\n",
    "import pandas as pd"
   ]
  },
  {
   "cell_type": "markdown",
   "id": "e7cdf1e8",
   "metadata": {
    "id": "6LHnSR5WU-jd",
    "papermill": {
     "duration": 0.01389,
     "end_time": "2023-11-23T19:19:08.455605",
     "exception": false,
     "start_time": "2023-11-23T19:19:08.441715",
     "status": "completed"
    },
    "tags": []
   },
   "source": [
    "## **2.1. Casos Covid-19**"
   ]
  },
  {
   "cell_type": "markdown",
   "id": "539d9e3d",
   "metadata": {
    "id": "pPmM_qsX04WI",
    "papermill": {
     "duration": 0.014396,
     "end_time": "2023-11-23T19:19:08.484197",
     "exception": false,
     "start_time": "2023-11-23T19:19:08.469801",
     "status": "completed"
    },
    "tags": []
   },
   "source": [
    "Começaremos pelo processamento dos dados de **Casos** de Covid-19."
   ]
  },
  {
   "cell_type": "markdown",
   "id": "5b382e5d",
   "metadata": {
    "id": "irQxHW1zGkdZ",
    "papermill": {
     "duration": 0.014601,
     "end_time": "2023-11-23T19:19:08.513202",
     "exception": false,
     "start_time": "2023-11-23T19:19:08.498601",
     "status": "completed"
    },
    "tags": []
   },
   "source": [
    "### **2.1.1\\. Extração**"
   ]
  },
  {
   "cell_type": "code",
   "execution_count": 2,
   "id": "9c719c13",
   "metadata": {
    "execution": {
     "iopub.execute_input": "2023-11-23T19:19:08.544522Z",
     "iopub.status.busy": "2023-11-23T19:19:08.544004Z",
     "iopub.status.idle": "2023-11-23T19:19:09.122547Z",
     "shell.execute_reply": "2023-11-23T19:19:09.121481Z"
    },
    "id": "lxLj8e0GHAnr",
    "outputId": "32a4a4f5-66f5-4c80-efde-bbb525bb9c32",
    "papermill": {
     "duration": 0.59664,
     "end_time": "2023-11-23T19:19:09.124861",
     "exception": false,
     "start_time": "2023-11-23T19:19:08.528221",
     "status": "completed"
    },
    "tags": []
   },
   "outputs": [
    {
     "data": {
      "text/html": [
       "<div>\n",
       "<style scoped>\n",
       "    .dataframe tbody tr th:only-of-type {\n",
       "        vertical-align: middle;\n",
       "    }\n",
       "\n",
       "    .dataframe tbody tr th {\n",
       "        vertical-align: top;\n",
       "    }\n",
       "\n",
       "    .dataframe thead th {\n",
       "        text-align: right;\n",
       "    }\n",
       "</style>\n",
       "<table border=\"1\" class=\"dataframe\">\n",
       "  <thead>\n",
       "    <tr style=\"text-align: right;\">\n",
       "      <th></th>\n",
       "      <th>FIPS</th>\n",
       "      <th>Admin2</th>\n",
       "      <th>Province_State</th>\n",
       "      <th>Country_Region</th>\n",
       "      <th>Last_Update</th>\n",
       "      <th>Lat</th>\n",
       "      <th>Long_</th>\n",
       "      <th>Confirmed</th>\n",
       "      <th>Deaths</th>\n",
       "      <th>Recovered</th>\n",
       "      <th>Active</th>\n",
       "      <th>Combined_Key</th>\n",
       "      <th>Incident_Rate</th>\n",
       "      <th>Case_Fatality_Ratio</th>\n",
       "    </tr>\n",
       "  </thead>\n",
       "  <tbody>\n",
       "    <tr>\n",
       "      <th>0</th>\n",
       "      <td>NaN</td>\n",
       "      <td>NaN</td>\n",
       "      <td>NaN</td>\n",
       "      <td>Afghanistan</td>\n",
       "      <td>2021-01-13 05:22:15</td>\n",
       "      <td>33.93911</td>\n",
       "      <td>67.709953</td>\n",
       "      <td>53584</td>\n",
       "      <td>2301</td>\n",
       "      <td>44608</td>\n",
       "      <td>6675</td>\n",
       "      <td>Afghanistan</td>\n",
       "      <td>137.647787</td>\n",
       "      <td>4.294192</td>\n",
       "    </tr>\n",
       "    <tr>\n",
       "      <th>1</th>\n",
       "      <td>NaN</td>\n",
       "      <td>NaN</td>\n",
       "      <td>NaN</td>\n",
       "      <td>Albania</td>\n",
       "      <td>2021-01-13 05:22:15</td>\n",
       "      <td>41.15330</td>\n",
       "      <td>20.168300</td>\n",
       "      <td>64627</td>\n",
       "      <td>1252</td>\n",
       "      <td>38421</td>\n",
       "      <td>24954</td>\n",
       "      <td>Albania</td>\n",
       "      <td>2245.708527</td>\n",
       "      <td>1.937271</td>\n",
       "    </tr>\n",
       "    <tr>\n",
       "      <th>2</th>\n",
       "      <td>NaN</td>\n",
       "      <td>NaN</td>\n",
       "      <td>NaN</td>\n",
       "      <td>Algeria</td>\n",
       "      <td>2021-01-13 05:22:15</td>\n",
       "      <td>28.03390</td>\n",
       "      <td>1.659600</td>\n",
       "      <td>102641</td>\n",
       "      <td>2816</td>\n",
       "      <td>69608</td>\n",
       "      <td>30217</td>\n",
       "      <td>Algeria</td>\n",
       "      <td>234.067409</td>\n",
       "      <td>2.743543</td>\n",
       "    </tr>\n",
       "    <tr>\n",
       "      <th>3</th>\n",
       "      <td>NaN</td>\n",
       "      <td>NaN</td>\n",
       "      <td>NaN</td>\n",
       "      <td>Andorra</td>\n",
       "      <td>2021-01-13 05:22:15</td>\n",
       "      <td>42.50630</td>\n",
       "      <td>1.521800</td>\n",
       "      <td>8682</td>\n",
       "      <td>86</td>\n",
       "      <td>7930</td>\n",
       "      <td>666</td>\n",
       "      <td>Andorra</td>\n",
       "      <td>11236.653077</td>\n",
       "      <td>0.990555</td>\n",
       "    </tr>\n",
       "    <tr>\n",
       "      <th>4</th>\n",
       "      <td>NaN</td>\n",
       "      <td>NaN</td>\n",
       "      <td>NaN</td>\n",
       "      <td>Angola</td>\n",
       "      <td>2021-01-13 05:22:15</td>\n",
       "      <td>-11.20270</td>\n",
       "      <td>17.873900</td>\n",
       "      <td>18343</td>\n",
       "      <td>422</td>\n",
       "      <td>15512</td>\n",
       "      <td>2409</td>\n",
       "      <td>Angola</td>\n",
       "      <td>55.811022</td>\n",
       "      <td>2.300605</td>\n",
       "    </tr>\n",
       "  </tbody>\n",
       "</table>\n",
       "</div>"
      ],
      "text/plain": [
       "   FIPS Admin2 Province_State Country_Region          Last_Update       Lat  \\\n",
       "0   NaN    NaN            NaN    Afghanistan  2021-01-13 05:22:15  33.93911   \n",
       "1   NaN    NaN            NaN        Albania  2021-01-13 05:22:15  41.15330   \n",
       "2   NaN    NaN            NaN        Algeria  2021-01-13 05:22:15  28.03390   \n",
       "3   NaN    NaN            NaN        Andorra  2021-01-13 05:22:15  42.50630   \n",
       "4   NaN    NaN            NaN         Angola  2021-01-13 05:22:15 -11.20270   \n",
       "\n",
       "       Long_  Confirmed  Deaths  Recovered  Active Combined_Key  \\\n",
       "0  67.709953      53584    2301      44608    6675  Afghanistan   \n",
       "1  20.168300      64627    1252      38421   24954      Albania   \n",
       "2   1.659600     102641    2816      69608   30217      Algeria   \n",
       "3   1.521800       8682      86       7930     666      Andorra   \n",
       "4  17.873900      18343     422      15512    2409       Angola   \n",
       "\n",
       "   Incident_Rate  Case_Fatality_Ratio  \n",
       "0     137.647787             4.294192  \n",
       "1    2245.708527             1.937271  \n",
       "2     234.067409             2.743543  \n",
       "3   11236.653077             0.990555  \n",
       "4      55.811022             2.300605  "
      ]
     },
     "execution_count": 2,
     "metadata": {},
     "output_type": "execute_result"
    }
   ],
   "source": [
    "# declaração da variável com os dados brutos\n",
    "cases = pd.read_csv('https://raw.githubusercontent.com/CSSEGISandData/COVID-19/master/csse_covid_19_data/csse_covid_19_daily_reports/01-12-2021.csv', sep=',')\n",
    "\n",
    "cases.head()"
   ]
  },
  {
   "cell_type": "markdown",
   "id": "9e75cb64",
   "metadata": {
    "id": "LVa-R8qKWUAg",
    "papermill": {
     "duration": 0.014197,
     "end_time": "2023-11-23T19:19:09.153639",
     "exception": false,
     "start_time": "2023-11-23T19:19:09.139442",
     "status": "completed"
    },
    "tags": []
   },
   "source": [
    "Tendo em vista que o dado está compilado em um arquivo por dia, é necessário iterar dentro de um intervalo de tempo definido para extraí-lo."
   ]
  },
  {
   "cell_type": "code",
   "execution_count": 3,
   "id": "92a72c91",
   "metadata": {
    "execution": {
     "iopub.execute_input": "2023-11-23T19:19:09.184307Z",
     "iopub.status.busy": "2023-11-23T19:19:09.183845Z",
     "iopub.status.idle": "2023-11-23T19:19:09.189451Z",
     "shell.execute_reply": "2023-11-23T19:19:09.188544Z"
    },
    "id": "yvNNHQWjF1LI",
    "papermill": {
     "duration": 0.023191,
     "end_time": "2023-11-23T19:19:09.191367",
     "exception": false,
     "start_time": "2023-11-23T19:19:09.168176",
     "status": "completed"
    },
    "tags": []
   },
   "outputs": [],
   "source": [
    "def date_range(start_date: datetime, end_date: datetime) -> Iterator[datetime]:\n",
    "  date_range_days: int = (end_date - start_date).days\n",
    "  for lag in range(date_range_days):\n",
    "    yield start_date + timedelta(lag)"
   ]
  },
  {
   "cell_type": "code",
   "execution_count": 4,
   "id": "8740abc6",
   "metadata": {
    "execution": {
     "iopub.execute_input": "2023-11-23T19:19:09.223042Z",
     "iopub.status.busy": "2023-11-23T19:19:09.222651Z",
     "iopub.status.idle": "2023-11-23T19:19:09.227945Z",
     "shell.execute_reply": "2023-11-23T19:19:09.226772Z"
    },
    "id": "pUnc9yv5ISm1",
    "papermill": {
     "duration": 0.023376,
     "end_time": "2023-11-23T19:19:09.230172",
     "exception": false,
     "start_time": "2023-11-23T19:19:09.206796",
     "status": "completed"
    },
    "tags": []
   },
   "outputs": [],
   "source": [
    "start_date = datetime(2021,  1,  1)\n",
    "end_date   = datetime(2021, 12, 31)"
   ]
  },
  {
   "cell_type": "code",
   "execution_count": 5,
   "id": "cb6bc822",
   "metadata": {
    "execution": {
     "iopub.execute_input": "2023-11-23T19:19:09.262740Z",
     "iopub.status.busy": "2023-11-23T19:19:09.262365Z",
     "iopub.status.idle": "2023-11-23T19:22:29.536762Z",
     "shell.execute_reply": "2023-11-23T19:22:29.535716Z"
    },
    "id": "-g3E-Ya4H4O1",
    "papermill": {
     "duration": 200.293914,
     "end_time": "2023-11-23T19:22:29.539532",
     "exception": false,
     "start_time": "2023-11-23T19:19:09.245618",
     "status": "completed"
    },
    "tags": []
   },
   "outputs": [],
   "source": [
    "# selecionando as colunas de interesse e as linhas referentes ao Brasil de forma iterativa\n",
    "cases = None\n",
    "cases_is_empty = True\n",
    "\n",
    "for date in date_range(start_date=start_date, end_date=end_date):\n",
    "\n",
    "  date_str = date.strftime('%m-%d-%Y')\n",
    "  data_source_url = f'https://raw.githubusercontent.com/CSSEGISandData/COVID-19/master/csse_covid_19_data/csse_covid_19_daily_reports/{date_str}.csv'\n",
    "\n",
    "  case = pd.read_csv(data_source_url, sep=',')\n",
    "\n",
    "  case = case.drop(['FIPS', 'Admin2', 'Last_Update', 'Lat', 'Long_', 'Recovered', 'Active', 'Combined_Key', 'Case_Fatality_Ratio'], axis=1)\n",
    "  case = case.query('Country_Region == \"Brazil\"').reset_index(drop=True)\n",
    "  case['Date'] = pd.to_datetime(date.strftime('%Y-%m-%d'))\n",
    "\n",
    "  if cases_is_empty:\n",
    "    cases = case\n",
    "    cases_is_empty = False\n",
    "  else:\n",
    "    cases = pd.concat([cases, case], axis=0, ignore_index=True)"
   ]
  },
  {
   "cell_type": "code",
   "execution_count": 6,
   "id": "7c568cd2",
   "metadata": {
    "execution": {
     "iopub.execute_input": "2023-11-23T19:22:29.571239Z",
     "iopub.status.busy": "2023-11-23T19:22:29.570208Z",
     "iopub.status.idle": "2023-11-23T19:22:29.584248Z",
     "shell.execute_reply": "2023-11-23T19:22:29.583181Z"
    },
    "id": "ziaW4wrMepaH",
    "outputId": "a78e7a37-07a2-4bd8-aba4-47b55859db9e",
    "papermill": {
     "duration": 0.03196,
     "end_time": "2023-11-23T19:22:29.586264",
     "exception": false,
     "start_time": "2023-11-23T19:22:29.554304",
     "status": "completed"
    },
    "tags": []
   },
   "outputs": [
    {
     "data": {
      "text/html": [
       "<div>\n",
       "<style scoped>\n",
       "    .dataframe tbody tr th:only-of-type {\n",
       "        vertical-align: middle;\n",
       "    }\n",
       "\n",
       "    .dataframe tbody tr th {\n",
       "        vertical-align: top;\n",
       "    }\n",
       "\n",
       "    .dataframe thead th {\n",
       "        text-align: right;\n",
       "    }\n",
       "</style>\n",
       "<table border=\"1\" class=\"dataframe\">\n",
       "  <thead>\n",
       "    <tr style=\"text-align: right;\">\n",
       "      <th></th>\n",
       "      <th>Province_State</th>\n",
       "      <th>Country_Region</th>\n",
       "      <th>Confirmed</th>\n",
       "      <th>Deaths</th>\n",
       "      <th>Incident_Rate</th>\n",
       "      <th>Date</th>\n",
       "    </tr>\n",
       "  </thead>\n",
       "  <tbody>\n",
       "    <tr>\n",
       "      <th>0</th>\n",
       "      <td>Acre</td>\n",
       "      <td>Brazil</td>\n",
       "      <td>41689</td>\n",
       "      <td>796</td>\n",
       "      <td>4726.992352</td>\n",
       "      <td>2021-01-01</td>\n",
       "    </tr>\n",
       "    <tr>\n",
       "      <th>1</th>\n",
       "      <td>Alagoas</td>\n",
       "      <td>Brazil</td>\n",
       "      <td>105091</td>\n",
       "      <td>2496</td>\n",
       "      <td>3148.928928</td>\n",
       "      <td>2021-01-01</td>\n",
       "    </tr>\n",
       "    <tr>\n",
       "      <th>2</th>\n",
       "      <td>Amapa</td>\n",
       "      <td>Brazil</td>\n",
       "      <td>68361</td>\n",
       "      <td>926</td>\n",
       "      <td>8083.066602</td>\n",
       "      <td>2021-01-01</td>\n",
       "    </tr>\n",
       "    <tr>\n",
       "      <th>3</th>\n",
       "      <td>Amazonas</td>\n",
       "      <td>Brazil</td>\n",
       "      <td>201574</td>\n",
       "      <td>5295</td>\n",
       "      <td>4863.536793</td>\n",
       "      <td>2021-01-01</td>\n",
       "    </tr>\n",
       "    <tr>\n",
       "      <th>4</th>\n",
       "      <td>Bahia</td>\n",
       "      <td>Brazil</td>\n",
       "      <td>494684</td>\n",
       "      <td>9159</td>\n",
       "      <td>3326.039611</td>\n",
       "      <td>2021-01-01</td>\n",
       "    </tr>\n",
       "  </tbody>\n",
       "</table>\n",
       "</div>"
      ],
      "text/plain": [
       "  Province_State Country_Region  Confirmed  Deaths  Incident_Rate       Date\n",
       "0           Acre         Brazil      41689     796    4726.992352 2021-01-01\n",
       "1        Alagoas         Brazil     105091    2496    3148.928928 2021-01-01\n",
       "2          Amapa         Brazil      68361     926    8083.066602 2021-01-01\n",
       "3       Amazonas         Brazil     201574    5295    4863.536793 2021-01-01\n",
       "4          Bahia         Brazil     494684    9159    3326.039611 2021-01-01"
      ]
     },
     "execution_count": 6,
     "metadata": {},
     "output_type": "execute_result"
    }
   ],
   "source": [
    "cases.head()"
   ]
  },
  {
   "cell_type": "markdown",
   "id": "848a98a2",
   "metadata": {
    "id": "cjMvkZS6u72A",
    "papermill": {
     "duration": 0.014512,
     "end_time": "2023-11-23T19:22:29.615598",
     "exception": false,
     "start_time": "2023-11-23T19:22:29.601086",
     "status": "completed"
    },
    "tags": []
   },
   "source": [
    "### **2.1.2\\. Wrangling**"
   ]
  },
  {
   "cell_type": "markdown",
   "id": "77da9127",
   "metadata": {
    "id": "h9SdR-C8vS9Z",
    "papermill": {
     "duration": 0.014961,
     "end_time": "2023-11-23T19:22:29.645325",
     "exception": false,
     "start_time": "2023-11-23T19:22:29.630364",
     "status": "completed"
    },
    "tags": []
   },
   "source": [
    "Nesta estapa, vamos manipular os dados para o dashboard. O foco é em garantir uma boa granularidade e qualidade da base de dados."
   ]
  },
  {
   "cell_type": "code",
   "execution_count": 7,
   "id": "093a5ae5",
   "metadata": {
    "execution": {
     "iopub.execute_input": "2023-11-23T19:22:29.676911Z",
     "iopub.status.busy": "2023-11-23T19:22:29.675841Z",
     "iopub.status.idle": "2023-11-23T19:22:29.688043Z",
     "shell.execute_reply": "2023-11-23T19:22:29.687253Z"
    },
    "id": "G66lP6tOqya_",
    "outputId": "3996415b-31f4-4a2c-92b0-bf6d15907076",
    "papermill": {
     "duration": 0.030121,
     "end_time": "2023-11-23T19:22:29.690166",
     "exception": false,
     "start_time": "2023-11-23T19:22:29.660045",
     "status": "completed"
    },
    "tags": []
   },
   "outputs": [
    {
     "data": {
      "text/html": [
       "<div>\n",
       "<style scoped>\n",
       "    .dataframe tbody tr th:only-of-type {\n",
       "        vertical-align: middle;\n",
       "    }\n",
       "\n",
       "    .dataframe tbody tr th {\n",
       "        vertical-align: top;\n",
       "    }\n",
       "\n",
       "    .dataframe thead th {\n",
       "        text-align: right;\n",
       "    }\n",
       "</style>\n",
       "<table border=\"1\" class=\"dataframe\">\n",
       "  <thead>\n",
       "    <tr style=\"text-align: right;\">\n",
       "      <th></th>\n",
       "      <th>Province_State</th>\n",
       "      <th>Country_Region</th>\n",
       "      <th>Confirmed</th>\n",
       "      <th>Deaths</th>\n",
       "      <th>Incident_Rate</th>\n",
       "      <th>Date</th>\n",
       "    </tr>\n",
       "  </thead>\n",
       "  <tbody>\n",
       "    <tr>\n",
       "      <th>0</th>\n",
       "      <td>Acre</td>\n",
       "      <td>Brazil</td>\n",
       "      <td>41689</td>\n",
       "      <td>796</td>\n",
       "      <td>4726.992352</td>\n",
       "      <td>2021-01-01</td>\n",
       "    </tr>\n",
       "    <tr>\n",
       "      <th>1</th>\n",
       "      <td>Alagoas</td>\n",
       "      <td>Brazil</td>\n",
       "      <td>105091</td>\n",
       "      <td>2496</td>\n",
       "      <td>3148.928928</td>\n",
       "      <td>2021-01-01</td>\n",
       "    </tr>\n",
       "    <tr>\n",
       "      <th>2</th>\n",
       "      <td>Amapa</td>\n",
       "      <td>Brazil</td>\n",
       "      <td>68361</td>\n",
       "      <td>926</td>\n",
       "      <td>8083.066602</td>\n",
       "      <td>2021-01-01</td>\n",
       "    </tr>\n",
       "    <tr>\n",
       "      <th>3</th>\n",
       "      <td>Amazonas</td>\n",
       "      <td>Brazil</td>\n",
       "      <td>201574</td>\n",
       "      <td>5295</td>\n",
       "      <td>4863.536793</td>\n",
       "      <td>2021-01-01</td>\n",
       "    </tr>\n",
       "    <tr>\n",
       "      <th>4</th>\n",
       "      <td>Bahia</td>\n",
       "      <td>Brazil</td>\n",
       "      <td>494684</td>\n",
       "      <td>9159</td>\n",
       "      <td>3326.039611</td>\n",
       "      <td>2021-01-01</td>\n",
       "    </tr>\n",
       "  </tbody>\n",
       "</table>\n",
       "</div>"
      ],
      "text/plain": [
       "  Province_State Country_Region  Confirmed  Deaths  Incident_Rate       Date\n",
       "0           Acre         Brazil      41689     796    4726.992352 2021-01-01\n",
       "1        Alagoas         Brazil     105091    2496    3148.928928 2021-01-01\n",
       "2          Amapa         Brazil      68361     926    8083.066602 2021-01-01\n",
       "3       Amazonas         Brazil     201574    5295    4863.536793 2021-01-01\n",
       "4          Bahia         Brazil     494684    9159    3326.039611 2021-01-01"
      ]
     },
     "execution_count": 7,
     "metadata": {},
     "output_type": "execute_result"
    }
   ],
   "source": [
    "cases.head()"
   ]
  },
  {
   "cell_type": "code",
   "execution_count": 8,
   "id": "87d0c489",
   "metadata": {
    "execution": {
     "iopub.execute_input": "2023-11-23T19:22:29.723746Z",
     "iopub.status.busy": "2023-11-23T19:22:29.722758Z",
     "iopub.status.idle": "2023-11-23T19:22:29.728981Z",
     "shell.execute_reply": "2023-11-23T19:22:29.727966Z"
    },
    "id": "Z4yQeP4bVCC5",
    "outputId": "30f40da5-1c71-4a51-f641-8d921c546268",
    "papermill": {
     "duration": 0.024719,
     "end_time": "2023-11-23T19:22:29.730894",
     "exception": false,
     "start_time": "2023-11-23T19:22:29.706175",
     "status": "completed"
    },
    "tags": []
   },
   "outputs": [
    {
     "data": {
      "text/plain": [
       "(9828, 6)"
      ]
     },
     "execution_count": 8,
     "metadata": {},
     "output_type": "execute_result"
    }
   ],
   "source": [
    "cases.shape"
   ]
  },
  {
   "cell_type": "code",
   "execution_count": 9,
   "id": "dc689e1c",
   "metadata": {
    "execution": {
     "iopub.execute_input": "2023-11-23T19:22:29.763642Z",
     "iopub.status.busy": "2023-11-23T19:22:29.762959Z",
     "iopub.status.idle": "2023-11-23T19:22:29.783738Z",
     "shell.execute_reply": "2023-11-23T19:22:29.782582Z"
    },
    "id": "pRs8xDlcU-y0",
    "outputId": "ee3b7a57-957e-463b-a9bd-aaaf7ec93047",
    "papermill": {
     "duration": 0.039988,
     "end_time": "2023-11-23T19:22:29.786080",
     "exception": false,
     "start_time": "2023-11-23T19:22:29.746092",
     "status": "completed"
    },
    "tags": []
   },
   "outputs": [
    {
     "name": "stdout",
     "output_type": "stream",
     "text": [
      "<class 'pandas.core.frame.DataFrame'>\n",
      "RangeIndex: 9828 entries, 0 to 9827\n",
      "Data columns (total 6 columns):\n",
      " #   Column          Non-Null Count  Dtype         \n",
      "---  ------          --------------  -----         \n",
      " 0   Province_State  9828 non-null   object        \n",
      " 1   Country_Region  9828 non-null   object        \n",
      " 2   Confirmed       9828 non-null   int64         \n",
      " 3   Deaths          9828 non-null   int64         \n",
      " 4   Incident_Rate   9828 non-null   float64       \n",
      " 5   Date            9828 non-null   datetime64[ns]\n",
      "dtypes: datetime64[ns](1), float64(1), int64(2), object(2)\n",
      "memory usage: 460.8+ KB\n"
     ]
    }
   ],
   "source": [
    "cases.info()"
   ]
  },
  {
   "cell_type": "code",
   "execution_count": 10,
   "id": "9d02c3dd",
   "metadata": {
    "execution": {
     "iopub.execute_input": "2023-11-23T19:22:29.818778Z",
     "iopub.status.busy": "2023-11-23T19:22:29.818340Z",
     "iopub.status.idle": "2023-11-23T19:22:29.829688Z",
     "shell.execute_reply": "2023-11-23T19:22:29.828602Z"
    },
    "id": "1w9pQ8d_UCJO",
    "papermill": {
     "duration": 0.03062,
     "end_time": "2023-11-23T19:22:29.832157",
     "exception": false,
     "start_time": "2023-11-23T19:22:29.801537",
     "status": "completed"
    },
    "tags": []
   },
   "outputs": [],
   "source": [
    "# renomeando as colunas\n",
    "cases = cases.rename(\n",
    "  columns={\n",
    "    'Province_State': 'state',\n",
    "    'Country_Region': 'country'\n",
    "  }\n",
    ")\n",
    "\n",
    "for col in cases.columns:\n",
    "  cases = cases.rename(columns={col: col.lower()})"
   ]
  },
  {
   "cell_type": "code",
   "execution_count": 11,
   "id": "4ccec221",
   "metadata": {
    "execution": {
     "iopub.execute_input": "2023-11-23T19:22:29.865135Z",
     "iopub.status.busy": "2023-11-23T19:22:29.864475Z",
     "iopub.status.idle": "2023-11-23T19:22:29.875874Z",
     "shell.execute_reply": "2023-11-23T19:22:29.874759Z"
    },
    "id": "LBajRRZEnlms",
    "papermill": {
     "duration": 0.03086,
     "end_time": "2023-11-23T19:22:29.878794",
     "exception": false,
     "start_time": "2023-11-23T19:22:29.847934",
     "status": "completed"
    },
    "tags": []
   },
   "outputs": [],
   "source": [
    "# alterando o nome dos estados Brasileiros\n",
    "\n",
    "states_map = {\n",
    "    'Amapa': 'Amapá',\n",
    "    'Ceara': 'Ceará',\n",
    "    'Espirito Santo': 'Espírito Santo',\n",
    "    'Goias': 'Goiás',\n",
    "    'Para': 'Pará',\n",
    "    'Paraiba': 'Paraíba',\n",
    "    'Parana': 'Paraná',\n",
    "    'Piaui': 'Piauí',\n",
    "    'Rondonia': 'Rondônia',\n",
    "    'Sao Paulo': 'São Paulo'\n",
    "}\n",
    "\n",
    "cases['state'] = cases['state'].apply(lambda state: states_map.get(state) if state in states_map.keys() else state)"
   ]
  },
  {
   "cell_type": "markdown",
   "id": "858eb044",
   "metadata": {
    "id": "Wp0KOjQxwCFO",
    "papermill": {
     "duration": 0.015173,
     "end_time": "2023-11-23T19:22:29.909851",
     "exception": false,
     "start_time": "2023-11-23T19:22:29.894678",
     "status": "completed"
    },
    "tags": []
   },
   "source": [
    "Agora, para o enriquecimento da base de dados, vamos computar novas colunas."
   ]
  },
  {
   "cell_type": "markdown",
   "id": "19c8400d",
   "metadata": {
    "id": "V8Ijno5d28L-",
    "papermill": {
     "duration": 0.015083,
     "end_time": "2023-11-23T19:22:29.940204",
     "exception": false,
     "start_time": "2023-11-23T19:22:29.925121",
     "status": "completed"
    },
    "tags": []
   },
   "source": [
    " - Chaves temporais:"
   ]
  },
  {
   "cell_type": "code",
   "execution_count": 12,
   "id": "26efcc39",
   "metadata": {
    "execution": {
     "iopub.execute_input": "2023-11-23T19:22:29.972719Z",
     "iopub.status.busy": "2023-11-23T19:22:29.972288Z",
     "iopub.status.idle": "2023-11-23T19:22:30.076453Z",
     "shell.execute_reply": "2023-11-23T19:22:30.075490Z"
    },
    "id": "uRYhqYtRYYPI",
    "papermill": {
     "duration": 0.12392,
     "end_time": "2023-11-23T19:22:30.079305",
     "exception": false,
     "start_time": "2023-11-23T19:22:29.955385",
     "status": "completed"
    },
    "tags": []
   },
   "outputs": [],
   "source": [
    "cases['month'] = cases['date'].apply(lambda date: date.strftime('%Y-%m'))\n",
    "cases['year']  = cases['date'].apply(lambda date: date.strftime('%Y'))"
   ]
  },
  {
   "cell_type": "markdown",
   "id": "c93bf92e",
   "metadata": {
    "id": "d9tjVG7o2_IT",
    "papermill": {
     "duration": 0.014907,
     "end_time": "2023-11-23T19:22:30.110090",
     "exception": false,
     "start_time": "2023-11-23T19:22:30.095183",
     "status": "completed"
    },
    "tags": []
   },
   "source": [
    " - População estimada do estado:"
   ]
  },
  {
   "cell_type": "code",
   "execution_count": 13,
   "id": "e973e408",
   "metadata": {
    "execution": {
     "iopub.execute_input": "2023-11-23T19:22:30.142124Z",
     "iopub.status.busy": "2023-11-23T19:22:30.141759Z",
     "iopub.status.idle": "2023-11-23T19:22:30.152424Z",
     "shell.execute_reply": "2023-11-23T19:22:30.151255Z"
    },
    "id": "1U6wV_zngbZW",
    "papermill": {
     "duration": 0.029953,
     "end_time": "2023-11-23T19:22:30.155168",
     "exception": false,
     "start_time": "2023-11-23T19:22:30.125215",
     "status": "completed"
    },
    "tags": []
   },
   "outputs": [],
   "source": [
    "cases['population'] = round(100000 * (cases['confirmed'] / cases['incident_rate']))\n",
    "cases = cases.drop('incident_rate', axis=1)"
   ]
  },
  {
   "cell_type": "markdown",
   "id": "335da808",
   "metadata": {
    "id": "LCxMEJP53E3v",
    "papermill": {
     "duration": 0.015173,
     "end_time": "2023-11-23T19:22:30.187211",
     "exception": false,
     "start_time": "2023-11-23T19:22:30.172038",
     "status": "completed"
    },
    "tags": []
   },
   "source": [
    " - Número, média móvel (7 dias) e estabilidade (14 dias) de casos e mortes por estado:"
   ]
  },
  {
   "cell_type": "markdown",
   "id": "c278d1ff",
   "metadata": {
    "id": "ZSHsw4H1oyjI",
    "papermill": {
     "duration": 0.015005,
     "end_time": "2023-11-23T19:22:30.217544",
     "exception": false,
     "start_time": "2023-11-23T19:22:30.202539",
     "status": "completed"
    },
    "tags": []
   },
   "source": [
    "| 1 | 2 | 3 | 4 | 5 | 6 | <font color='red'>7</font> | <font color='green'>8</font> | 9 | 10 | 11 | 12 | 13 | <font color='blue'>14<font color='red'> | 15 | 16 | 17 | 18 | 19 | 20 | 21 |\n",
    "| - | - | - | - | - | - | - | - | - | -- | -- | -- | -- | -- | -- | -- | -- | -- | -- | -- | -- |\n",
    "| <font color='red'>D-6</font> | <font color='red'>D-5</font> | <font color='red'>D-4</font> | <font color='red'>D-3</font> | <font color='red'>D-2</font> | <font color='red'>D-1</font> | <font color='red'>D0</font> | | | | | | | | | | | | | | |\n",
    "| D-7 | <font color='green'>D-6</font> | <font color='green'>D-5</font> | <font color='green'>D-4</font> | <font color='green'>D-3</font> | <font color='green'>D-2</font> | <font color='green'>D-1</font> | <font color='green'>D0</font> | | | | | | | | | | | | | |\n",
    "| D-13 | D-12 | D-11 | D-10 | D-9 | D-8 | D-7 | <font color='blue'>D-6</font> | <font color='blue'>D-5</font> | <font color='blue'>D-4</font> | <font color='blue'>D-3</font> | <font color='blue'>D-2</font> | <font color='blue'>D-1</font> | <font color='blue'>D0</font> | | | | | | | |"
   ]
  },
  {
   "cell_type": "code",
   "execution_count": 14,
   "id": "60fc26f3",
   "metadata": {
    "execution": {
     "iopub.execute_input": "2023-11-23T19:22:30.250097Z",
     "iopub.status.busy": "2023-11-23T19:22:30.249522Z",
     "iopub.status.idle": "2023-11-23T19:22:30.642147Z",
     "shell.execute_reply": "2023-11-23T19:22:30.640946Z"
    },
    "id": "8ytrpaND3ZMQ",
    "papermill": {
     "duration": 0.412388,
     "end_time": "2023-11-23T19:22:30.645190",
     "exception": false,
     "start_time": "2023-11-23T19:22:30.232802",
     "status": "completed"
    },
    "tags": []
   },
   "outputs": [],
   "source": [
    "cases_ = None\n",
    "cases_is_empty = True\n",
    "\n",
    "def get_trend(rate: float) -> str:\n",
    "\n",
    "  if np.isnan(rate):\n",
    "    return np.NaN\n",
    "\n",
    "  if rate < 0.75:\n",
    "    status = 'downward'\n",
    "  elif rate > 1.15:\n",
    "    status = 'upward'\n",
    "  else:\n",
    "    status = 'stable'\n",
    "\n",
    "  return status\n",
    "\n",
    "\n",
    "for state in cases['state'].drop_duplicates():\n",
    "\n",
    "  cases_per_state = cases.query(f'state == \"{state}\"').reset_index(drop=True)\n",
    "  cases_per_state = cases_per_state.sort_values(by=['date'])\n",
    "\n",
    "  cases_per_state['confirmed_1d'] = cases_per_state['confirmed'].diff(periods=1)\n",
    "  cases_per_state['confirmed_moving_avg_7d'] = np.ceil(cases_per_state['confirmed_1d'].rolling(window=7).mean())\n",
    "  cases_per_state['confirmed_moving_avg_7d_rate_14d'] = cases_per_state['confirmed_moving_avg_7d']/cases_per_state['confirmed_moving_avg_7d'].shift(periods=14)\n",
    "  cases_per_state['confirmed_trend'] = cases_per_state['confirmed_moving_avg_7d_rate_14d'].apply(get_trend)\n",
    "\n",
    "  cases_per_state['deaths_1d'] = cases_per_state['deaths'].diff(periods=1)\n",
    "  cases_per_state['deaths_moving_avg_7d'] = np.ceil(cases_per_state['deaths_1d'].rolling(window=7).mean())\n",
    "  cases_per_state['deaths_moving_avg_7d_rate_14d'] = cases_per_state['deaths_moving_avg_7d']/cases_per_state['deaths_moving_avg_7d'].shift(periods=14)\n",
    "  cases_per_state['deaths_trend'] = cases_per_state['deaths_moving_avg_7d_rate_14d'].apply(get_trend)\n",
    "\n",
    "  if cases_is_empty:\n",
    "    cases_ = cases_per_state\n",
    "    cases_is_empty = False\n",
    "  else:\n",
    "    cases = pd.concat([cases, cases_per_state], axis=0, ignore_index=True)\n",
    "\n",
    "cases = cases_\n",
    "cases_ = None"
   ]
  },
  {
   "cell_type": "code",
   "execution_count": 15,
   "id": "416ee7ba",
   "metadata": {
    "execution": {
     "iopub.execute_input": "2023-11-23T19:22:30.678754Z",
     "iopub.status.busy": "2023-11-23T19:22:30.677660Z",
     "iopub.status.idle": "2023-11-23T19:22:30.687475Z",
     "shell.execute_reply": "2023-11-23T19:22:30.686411Z"
    },
    "id": "p7nalDg6KvFZ",
    "papermill": {
     "duration": 0.028839,
     "end_time": "2023-11-23T19:22:30.689767",
     "exception": false,
     "start_time": "2023-11-23T19:22:30.660928",
     "status": "completed"
    },
    "tags": []
   },
   "outputs": [],
   "source": [
    "# type casting das colunas para garantir o tipo do dado e a consistência da base de dados\n",
    "\n",
    "cases['population'] = cases['population'].astype('Int64')\n",
    "cases['confirmed_1d'] = cases['confirmed_1d'].astype('Int64')\n",
    "cases['confirmed_moving_avg_7d'] = cases['confirmed_moving_avg_7d'].astype('Int64')\n",
    "cases['deaths_1d'] = cases['deaths_1d'].astype('Int64')\n",
    "cases['deaths_moving_avg_7d'] = cases['deaths_moving_avg_7d'].astype('Int64')"
   ]
  },
  {
   "cell_type": "code",
   "execution_count": 16,
   "id": "18e893f7",
   "metadata": {
    "execution": {
     "iopub.execute_input": "2023-11-23T19:22:30.722433Z",
     "iopub.status.busy": "2023-11-23T19:22:30.721546Z",
     "iopub.status.idle": "2023-11-23T19:22:30.729066Z",
     "shell.execute_reply": "2023-11-23T19:22:30.728025Z"
    },
    "id": "6fkkdIXVZL-E",
    "papermill": {
     "duration": 0.026358,
     "end_time": "2023-11-23T19:22:30.731395",
     "exception": false,
     "start_time": "2023-11-23T19:22:30.705037",
     "status": "completed"
    },
    "tags": []
   },
   "outputs": [],
   "source": [
    "# reorganizando as colunas\n",
    "cases = cases[['date', 'country', 'state', 'population', 'confirmed', 'confirmed_1d', 'confirmed_moving_avg_7d', 'confirmed_moving_avg_7d_rate_14d', 'confirmed_trend', 'deaths', 'deaths_1d', 'deaths_moving_avg_7d', 'deaths_moving_avg_7d_rate_14d', 'deaths_trend', 'month', 'year']]"
   ]
  },
  {
   "cell_type": "code",
   "execution_count": 17,
   "id": "64b6af6f",
   "metadata": {
    "execution": {
     "iopub.execute_input": "2023-11-23T19:22:30.764278Z",
     "iopub.status.busy": "2023-11-23T19:22:30.763894Z",
     "iopub.status.idle": "2023-11-23T19:22:30.791391Z",
     "shell.execute_reply": "2023-11-23T19:22:30.790317Z"
    },
    "id": "wUZetbA5zNO8",
    "outputId": "c3c5f966-2756-4172-e624-b125a51b3b8d",
    "papermill": {
     "duration": 0.046502,
     "end_time": "2023-11-23T19:22:30.793561",
     "exception": false,
     "start_time": "2023-11-23T19:22:30.747059",
     "status": "completed"
    },
    "tags": []
   },
   "outputs": [
    {
     "data": {
      "text/html": [
       "<div>\n",
       "<style scoped>\n",
       "    .dataframe tbody tr th:only-of-type {\n",
       "        vertical-align: middle;\n",
       "    }\n",
       "\n",
       "    .dataframe tbody tr th {\n",
       "        vertical-align: top;\n",
       "    }\n",
       "\n",
       "    .dataframe thead th {\n",
       "        text-align: right;\n",
       "    }\n",
       "</style>\n",
       "<table border=\"1\" class=\"dataframe\">\n",
       "  <thead>\n",
       "    <tr style=\"text-align: right;\">\n",
       "      <th></th>\n",
       "      <th>date</th>\n",
       "      <th>country</th>\n",
       "      <th>state</th>\n",
       "      <th>population</th>\n",
       "      <th>confirmed</th>\n",
       "      <th>confirmed_1d</th>\n",
       "      <th>confirmed_moving_avg_7d</th>\n",
       "      <th>confirmed_moving_avg_7d_rate_14d</th>\n",
       "      <th>confirmed_trend</th>\n",
       "      <th>deaths</th>\n",
       "      <th>deaths_1d</th>\n",
       "      <th>deaths_moving_avg_7d</th>\n",
       "      <th>deaths_moving_avg_7d_rate_14d</th>\n",
       "      <th>deaths_trend</th>\n",
       "      <th>month</th>\n",
       "      <th>year</th>\n",
       "    </tr>\n",
       "  </thead>\n",
       "  <tbody>\n",
       "    <tr>\n",
       "      <th>0</th>\n",
       "      <td>2021-01-01</td>\n",
       "      <td>Brazil</td>\n",
       "      <td>Acre</td>\n",
       "      <td>881935</td>\n",
       "      <td>41689</td>\n",
       "      <td>&lt;NA&gt;</td>\n",
       "      <td>&lt;NA&gt;</td>\n",
       "      <td>NaN</td>\n",
       "      <td>NaN</td>\n",
       "      <td>796</td>\n",
       "      <td>&lt;NA&gt;</td>\n",
       "      <td>&lt;NA&gt;</td>\n",
       "      <td>NaN</td>\n",
       "      <td>NaN</td>\n",
       "      <td>2021-01</td>\n",
       "      <td>2021</td>\n",
       "    </tr>\n",
       "    <tr>\n",
       "      <th>1</th>\n",
       "      <td>2021-01-02</td>\n",
       "      <td>Brazil</td>\n",
       "      <td>Acre</td>\n",
       "      <td>881935</td>\n",
       "      <td>41941</td>\n",
       "      <td>252</td>\n",
       "      <td>&lt;NA&gt;</td>\n",
       "      <td>NaN</td>\n",
       "      <td>NaN</td>\n",
       "      <td>798</td>\n",
       "      <td>2</td>\n",
       "      <td>&lt;NA&gt;</td>\n",
       "      <td>NaN</td>\n",
       "      <td>NaN</td>\n",
       "      <td>2021-01</td>\n",
       "      <td>2021</td>\n",
       "    </tr>\n",
       "    <tr>\n",
       "      <th>2</th>\n",
       "      <td>2021-01-03</td>\n",
       "      <td>Brazil</td>\n",
       "      <td>Acre</td>\n",
       "      <td>881935</td>\n",
       "      <td>42046</td>\n",
       "      <td>105</td>\n",
       "      <td>&lt;NA&gt;</td>\n",
       "      <td>NaN</td>\n",
       "      <td>NaN</td>\n",
       "      <td>802</td>\n",
       "      <td>4</td>\n",
       "      <td>&lt;NA&gt;</td>\n",
       "      <td>NaN</td>\n",
       "      <td>NaN</td>\n",
       "      <td>2021-01</td>\n",
       "      <td>2021</td>\n",
       "    </tr>\n",
       "    <tr>\n",
       "      <th>3</th>\n",
       "      <td>2021-01-04</td>\n",
       "      <td>Brazil</td>\n",
       "      <td>Acre</td>\n",
       "      <td>881935</td>\n",
       "      <td>42117</td>\n",
       "      <td>71</td>\n",
       "      <td>&lt;NA&gt;</td>\n",
       "      <td>NaN</td>\n",
       "      <td>NaN</td>\n",
       "      <td>806</td>\n",
       "      <td>4</td>\n",
       "      <td>&lt;NA&gt;</td>\n",
       "      <td>NaN</td>\n",
       "      <td>NaN</td>\n",
       "      <td>2021-01</td>\n",
       "      <td>2021</td>\n",
       "    </tr>\n",
       "    <tr>\n",
       "      <th>4</th>\n",
       "      <td>2021-01-05</td>\n",
       "      <td>Brazil</td>\n",
       "      <td>Acre</td>\n",
       "      <td>881935</td>\n",
       "      <td>42170</td>\n",
       "      <td>53</td>\n",
       "      <td>&lt;NA&gt;</td>\n",
       "      <td>NaN</td>\n",
       "      <td>NaN</td>\n",
       "      <td>808</td>\n",
       "      <td>2</td>\n",
       "      <td>&lt;NA&gt;</td>\n",
       "      <td>NaN</td>\n",
       "      <td>NaN</td>\n",
       "      <td>2021-01</td>\n",
       "      <td>2021</td>\n",
       "    </tr>\n",
       "    <tr>\n",
       "      <th>5</th>\n",
       "      <td>2021-01-06</td>\n",
       "      <td>Brazil</td>\n",
       "      <td>Acre</td>\n",
       "      <td>881935</td>\n",
       "      <td>42378</td>\n",
       "      <td>208</td>\n",
       "      <td>&lt;NA&gt;</td>\n",
       "      <td>NaN</td>\n",
       "      <td>NaN</td>\n",
       "      <td>814</td>\n",
       "      <td>6</td>\n",
       "      <td>&lt;NA&gt;</td>\n",
       "      <td>NaN</td>\n",
       "      <td>NaN</td>\n",
       "      <td>2021-01</td>\n",
       "      <td>2021</td>\n",
       "    </tr>\n",
       "    <tr>\n",
       "      <th>6</th>\n",
       "      <td>2021-01-07</td>\n",
       "      <td>Brazil</td>\n",
       "      <td>Acre</td>\n",
       "      <td>881935</td>\n",
       "      <td>42478</td>\n",
       "      <td>100</td>\n",
       "      <td>&lt;NA&gt;</td>\n",
       "      <td>NaN</td>\n",
       "      <td>NaN</td>\n",
       "      <td>821</td>\n",
       "      <td>7</td>\n",
       "      <td>&lt;NA&gt;</td>\n",
       "      <td>NaN</td>\n",
       "      <td>NaN</td>\n",
       "      <td>2021-01</td>\n",
       "      <td>2021</td>\n",
       "    </tr>\n",
       "    <tr>\n",
       "      <th>7</th>\n",
       "      <td>2021-01-08</td>\n",
       "      <td>Brazil</td>\n",
       "      <td>Acre</td>\n",
       "      <td>881935</td>\n",
       "      <td>42814</td>\n",
       "      <td>336</td>\n",
       "      <td>161</td>\n",
       "      <td>NaN</td>\n",
       "      <td>NaN</td>\n",
       "      <td>823</td>\n",
       "      <td>2</td>\n",
       "      <td>4</td>\n",
       "      <td>NaN</td>\n",
       "      <td>NaN</td>\n",
       "      <td>2021-01</td>\n",
       "      <td>2021</td>\n",
       "    </tr>\n",
       "    <tr>\n",
       "      <th>8</th>\n",
       "      <td>2021-01-09</td>\n",
       "      <td>Brazil</td>\n",
       "      <td>Acre</td>\n",
       "      <td>881935</td>\n",
       "      <td>42908</td>\n",
       "      <td>94</td>\n",
       "      <td>139</td>\n",
       "      <td>NaN</td>\n",
       "      <td>NaN</td>\n",
       "      <td>823</td>\n",
       "      <td>0</td>\n",
       "      <td>4</td>\n",
       "      <td>NaN</td>\n",
       "      <td>NaN</td>\n",
       "      <td>2021-01</td>\n",
       "      <td>2021</td>\n",
       "    </tr>\n",
       "    <tr>\n",
       "      <th>9</th>\n",
       "      <td>2021-01-10</td>\n",
       "      <td>Brazil</td>\n",
       "      <td>Acre</td>\n",
       "      <td>881935</td>\n",
       "      <td>43127</td>\n",
       "      <td>219</td>\n",
       "      <td>155</td>\n",
       "      <td>NaN</td>\n",
       "      <td>NaN</td>\n",
       "      <td>825</td>\n",
       "      <td>2</td>\n",
       "      <td>4</td>\n",
       "      <td>NaN</td>\n",
       "      <td>NaN</td>\n",
       "      <td>2021-01</td>\n",
       "      <td>2021</td>\n",
       "    </tr>\n",
       "    <tr>\n",
       "      <th>10</th>\n",
       "      <td>2021-01-11</td>\n",
       "      <td>Brazil</td>\n",
       "      <td>Acre</td>\n",
       "      <td>881935</td>\n",
       "      <td>43346</td>\n",
       "      <td>219</td>\n",
       "      <td>176</td>\n",
       "      <td>NaN</td>\n",
       "      <td>NaN</td>\n",
       "      <td>826</td>\n",
       "      <td>1</td>\n",
       "      <td>3</td>\n",
       "      <td>NaN</td>\n",
       "      <td>NaN</td>\n",
       "      <td>2021-01</td>\n",
       "      <td>2021</td>\n",
       "    </tr>\n",
       "    <tr>\n",
       "      <th>11</th>\n",
       "      <td>2021-01-12</td>\n",
       "      <td>Brazil</td>\n",
       "      <td>Acre</td>\n",
       "      <td>881935</td>\n",
       "      <td>43432</td>\n",
       "      <td>86</td>\n",
       "      <td>181</td>\n",
       "      <td>NaN</td>\n",
       "      <td>NaN</td>\n",
       "      <td>827</td>\n",
       "      <td>1</td>\n",
       "      <td>3</td>\n",
       "      <td>NaN</td>\n",
       "      <td>NaN</td>\n",
       "      <td>2021-01</td>\n",
       "      <td>2021</td>\n",
       "    </tr>\n",
       "    <tr>\n",
       "      <th>12</th>\n",
       "      <td>2021-01-13</td>\n",
       "      <td>Brazil</td>\n",
       "      <td>Acre</td>\n",
       "      <td>881935</td>\n",
       "      <td>43785</td>\n",
       "      <td>353</td>\n",
       "      <td>201</td>\n",
       "      <td>NaN</td>\n",
       "      <td>NaN</td>\n",
       "      <td>829</td>\n",
       "      <td>2</td>\n",
       "      <td>3</td>\n",
       "      <td>NaN</td>\n",
       "      <td>NaN</td>\n",
       "      <td>2021-01</td>\n",
       "      <td>2021</td>\n",
       "    </tr>\n",
       "    <tr>\n",
       "      <th>13</th>\n",
       "      <td>2021-01-14</td>\n",
       "      <td>Brazil</td>\n",
       "      <td>Acre</td>\n",
       "      <td>881935</td>\n",
       "      <td>44068</td>\n",
       "      <td>283</td>\n",
       "      <td>228</td>\n",
       "      <td>NaN</td>\n",
       "      <td>NaN</td>\n",
       "      <td>832</td>\n",
       "      <td>3</td>\n",
       "      <td>2</td>\n",
       "      <td>NaN</td>\n",
       "      <td>NaN</td>\n",
       "      <td>2021-01</td>\n",
       "      <td>2021</td>\n",
       "    </tr>\n",
       "    <tr>\n",
       "      <th>14</th>\n",
       "      <td>2021-01-15</td>\n",
       "      <td>Brazil</td>\n",
       "      <td>Acre</td>\n",
       "      <td>881935</td>\n",
       "      <td>44156</td>\n",
       "      <td>88</td>\n",
       "      <td>192</td>\n",
       "      <td>NaN</td>\n",
       "      <td>NaN</td>\n",
       "      <td>835</td>\n",
       "      <td>3</td>\n",
       "      <td>2</td>\n",
       "      <td>NaN</td>\n",
       "      <td>NaN</td>\n",
       "      <td>2021-01</td>\n",
       "      <td>2021</td>\n",
       "    </tr>\n",
       "    <tr>\n",
       "      <th>15</th>\n",
       "      <td>2021-01-16</td>\n",
       "      <td>Brazil</td>\n",
       "      <td>Acre</td>\n",
       "      <td>881935</td>\n",
       "      <td>44621</td>\n",
       "      <td>465</td>\n",
       "      <td>245</td>\n",
       "      <td>NaN</td>\n",
       "      <td>NaN</td>\n",
       "      <td>835</td>\n",
       "      <td>0</td>\n",
       "      <td>2</td>\n",
       "      <td>NaN</td>\n",
       "      <td>NaN</td>\n",
       "      <td>2021-01</td>\n",
       "      <td>2021</td>\n",
       "    </tr>\n",
       "    <tr>\n",
       "      <th>16</th>\n",
       "      <td>2021-01-17</td>\n",
       "      <td>Brazil</td>\n",
       "      <td>Acre</td>\n",
       "      <td>881935</td>\n",
       "      <td>44767</td>\n",
       "      <td>146</td>\n",
       "      <td>235</td>\n",
       "      <td>NaN</td>\n",
       "      <td>NaN</td>\n",
       "      <td>836</td>\n",
       "      <td>1</td>\n",
       "      <td>2</td>\n",
       "      <td>NaN</td>\n",
       "      <td>NaN</td>\n",
       "      <td>2021-01</td>\n",
       "      <td>2021</td>\n",
       "    </tr>\n",
       "    <tr>\n",
       "      <th>17</th>\n",
       "      <td>2021-01-18</td>\n",
       "      <td>Brazil</td>\n",
       "      <td>Acre</td>\n",
       "      <td>881935</td>\n",
       "      <td>44775</td>\n",
       "      <td>8</td>\n",
       "      <td>205</td>\n",
       "      <td>NaN</td>\n",
       "      <td>NaN</td>\n",
       "      <td>837</td>\n",
       "      <td>1</td>\n",
       "      <td>2</td>\n",
       "      <td>NaN</td>\n",
       "      <td>NaN</td>\n",
       "      <td>2021-01</td>\n",
       "      <td>2021</td>\n",
       "    </tr>\n",
       "    <tr>\n",
       "      <th>18</th>\n",
       "      <td>2021-01-19</td>\n",
       "      <td>Brazil</td>\n",
       "      <td>Acre</td>\n",
       "      <td>881935</td>\n",
       "      <td>45208</td>\n",
       "      <td>433</td>\n",
       "      <td>254</td>\n",
       "      <td>NaN</td>\n",
       "      <td>NaN</td>\n",
       "      <td>839</td>\n",
       "      <td>2</td>\n",
       "      <td>2</td>\n",
       "      <td>NaN</td>\n",
       "      <td>NaN</td>\n",
       "      <td>2021-01</td>\n",
       "      <td>2021</td>\n",
       "    </tr>\n",
       "    <tr>\n",
       "      <th>19</th>\n",
       "      <td>2021-01-20</td>\n",
       "      <td>Brazil</td>\n",
       "      <td>Acre</td>\n",
       "      <td>881935</td>\n",
       "      <td>45429</td>\n",
       "      <td>221</td>\n",
       "      <td>235</td>\n",
       "      <td>NaN</td>\n",
       "      <td>NaN</td>\n",
       "      <td>840</td>\n",
       "      <td>1</td>\n",
       "      <td>2</td>\n",
       "      <td>NaN</td>\n",
       "      <td>NaN</td>\n",
       "      <td>2021-01</td>\n",
       "      <td>2021</td>\n",
       "    </tr>\n",
       "    <tr>\n",
       "      <th>20</th>\n",
       "      <td>2021-01-21</td>\n",
       "      <td>Brazil</td>\n",
       "      <td>Acre</td>\n",
       "      <td>881935</td>\n",
       "      <td>45729</td>\n",
       "      <td>300</td>\n",
       "      <td>238</td>\n",
       "      <td>NaN</td>\n",
       "      <td>NaN</td>\n",
       "      <td>844</td>\n",
       "      <td>4</td>\n",
       "      <td>2</td>\n",
       "      <td>NaN</td>\n",
       "      <td>NaN</td>\n",
       "      <td>2021-01</td>\n",
       "      <td>2021</td>\n",
       "    </tr>\n",
       "    <tr>\n",
       "      <th>21</th>\n",
       "      <td>2021-01-22</td>\n",
       "      <td>Brazil</td>\n",
       "      <td>Acre</td>\n",
       "      <td>881935</td>\n",
       "      <td>45987</td>\n",
       "      <td>258</td>\n",
       "      <td>262</td>\n",
       "      <td>1.627329</td>\n",
       "      <td>upward</td>\n",
       "      <td>846</td>\n",
       "      <td>2</td>\n",
       "      <td>2</td>\n",
       "      <td>0.5</td>\n",
       "      <td>downward</td>\n",
       "      <td>2021-01</td>\n",
       "      <td>2021</td>\n",
       "    </tr>\n",
       "    <tr>\n",
       "      <th>22</th>\n",
       "      <td>2021-01-23</td>\n",
       "      <td>Brazil</td>\n",
       "      <td>Acre</td>\n",
       "      <td>881935</td>\n",
       "      <td>46239</td>\n",
       "      <td>252</td>\n",
       "      <td>232</td>\n",
       "      <td>1.669065</td>\n",
       "      <td>upward</td>\n",
       "      <td>848</td>\n",
       "      <td>2</td>\n",
       "      <td>2</td>\n",
       "      <td>0.5</td>\n",
       "      <td>downward</td>\n",
       "      <td>2021-01</td>\n",
       "      <td>2021</td>\n",
       "    </tr>\n",
       "    <tr>\n",
       "      <th>23</th>\n",
       "      <td>2021-01-24</td>\n",
       "      <td>Brazil</td>\n",
       "      <td>Acre</td>\n",
       "      <td>881935</td>\n",
       "      <td>46429</td>\n",
       "      <td>190</td>\n",
       "      <td>238</td>\n",
       "      <td>1.535484</td>\n",
       "      <td>upward</td>\n",
       "      <td>850</td>\n",
       "      <td>2</td>\n",
       "      <td>2</td>\n",
       "      <td>0.5</td>\n",
       "      <td>downward</td>\n",
       "      <td>2021-01</td>\n",
       "      <td>2021</td>\n",
       "    </tr>\n",
       "    <tr>\n",
       "      <th>24</th>\n",
       "      <td>2021-01-25</td>\n",
       "      <td>Brazil</td>\n",
       "      <td>Acre</td>\n",
       "      <td>881935</td>\n",
       "      <td>46539</td>\n",
       "      <td>110</td>\n",
       "      <td>252</td>\n",
       "      <td>1.431818</td>\n",
       "      <td>upward</td>\n",
       "      <td>854</td>\n",
       "      <td>4</td>\n",
       "      <td>3</td>\n",
       "      <td>1.0</td>\n",
       "      <td>stable</td>\n",
       "      <td>2021-01</td>\n",
       "      <td>2021</td>\n",
       "    </tr>\n",
       "  </tbody>\n",
       "</table>\n",
       "</div>"
      ],
      "text/plain": [
       "         date country state  population  confirmed  confirmed_1d  \\\n",
       "0  2021-01-01  Brazil  Acre      881935      41689          <NA>   \n",
       "1  2021-01-02  Brazil  Acre      881935      41941           252   \n",
       "2  2021-01-03  Brazil  Acre      881935      42046           105   \n",
       "3  2021-01-04  Brazil  Acre      881935      42117            71   \n",
       "4  2021-01-05  Brazil  Acre      881935      42170            53   \n",
       "5  2021-01-06  Brazil  Acre      881935      42378           208   \n",
       "6  2021-01-07  Brazil  Acre      881935      42478           100   \n",
       "7  2021-01-08  Brazil  Acre      881935      42814           336   \n",
       "8  2021-01-09  Brazil  Acre      881935      42908            94   \n",
       "9  2021-01-10  Brazil  Acre      881935      43127           219   \n",
       "10 2021-01-11  Brazil  Acre      881935      43346           219   \n",
       "11 2021-01-12  Brazil  Acre      881935      43432            86   \n",
       "12 2021-01-13  Brazil  Acre      881935      43785           353   \n",
       "13 2021-01-14  Brazil  Acre      881935      44068           283   \n",
       "14 2021-01-15  Brazil  Acre      881935      44156            88   \n",
       "15 2021-01-16  Brazil  Acre      881935      44621           465   \n",
       "16 2021-01-17  Brazil  Acre      881935      44767           146   \n",
       "17 2021-01-18  Brazil  Acre      881935      44775             8   \n",
       "18 2021-01-19  Brazil  Acre      881935      45208           433   \n",
       "19 2021-01-20  Brazil  Acre      881935      45429           221   \n",
       "20 2021-01-21  Brazil  Acre      881935      45729           300   \n",
       "21 2021-01-22  Brazil  Acre      881935      45987           258   \n",
       "22 2021-01-23  Brazil  Acre      881935      46239           252   \n",
       "23 2021-01-24  Brazil  Acre      881935      46429           190   \n",
       "24 2021-01-25  Brazil  Acre      881935      46539           110   \n",
       "\n",
       "    confirmed_moving_avg_7d  confirmed_moving_avg_7d_rate_14d confirmed_trend  \\\n",
       "0                      <NA>                               NaN             NaN   \n",
       "1                      <NA>                               NaN             NaN   \n",
       "2                      <NA>                               NaN             NaN   \n",
       "3                      <NA>                               NaN             NaN   \n",
       "4                      <NA>                               NaN             NaN   \n",
       "5                      <NA>                               NaN             NaN   \n",
       "6                      <NA>                               NaN             NaN   \n",
       "7                       161                               NaN             NaN   \n",
       "8                       139                               NaN             NaN   \n",
       "9                       155                               NaN             NaN   \n",
       "10                      176                               NaN             NaN   \n",
       "11                      181                               NaN             NaN   \n",
       "12                      201                               NaN             NaN   \n",
       "13                      228                               NaN             NaN   \n",
       "14                      192                               NaN             NaN   \n",
       "15                      245                               NaN             NaN   \n",
       "16                      235                               NaN             NaN   \n",
       "17                      205                               NaN             NaN   \n",
       "18                      254                               NaN             NaN   \n",
       "19                      235                               NaN             NaN   \n",
       "20                      238                               NaN             NaN   \n",
       "21                      262                          1.627329          upward   \n",
       "22                      232                          1.669065          upward   \n",
       "23                      238                          1.535484          upward   \n",
       "24                      252                          1.431818          upward   \n",
       "\n",
       "    deaths  deaths_1d  deaths_moving_avg_7d  deaths_moving_avg_7d_rate_14d  \\\n",
       "0      796       <NA>                  <NA>                            NaN   \n",
       "1      798          2                  <NA>                            NaN   \n",
       "2      802          4                  <NA>                            NaN   \n",
       "3      806          4                  <NA>                            NaN   \n",
       "4      808          2                  <NA>                            NaN   \n",
       "5      814          6                  <NA>                            NaN   \n",
       "6      821          7                  <NA>                            NaN   \n",
       "7      823          2                     4                            NaN   \n",
       "8      823          0                     4                            NaN   \n",
       "9      825          2                     4                            NaN   \n",
       "10     826          1                     3                            NaN   \n",
       "11     827          1                     3                            NaN   \n",
       "12     829          2                     3                            NaN   \n",
       "13     832          3                     2                            NaN   \n",
       "14     835          3                     2                            NaN   \n",
       "15     835          0                     2                            NaN   \n",
       "16     836          1                     2                            NaN   \n",
       "17     837          1                     2                            NaN   \n",
       "18     839          2                     2                            NaN   \n",
       "19     840          1                     2                            NaN   \n",
       "20     844          4                     2                            NaN   \n",
       "21     846          2                     2                            0.5   \n",
       "22     848          2                     2                            0.5   \n",
       "23     850          2                     2                            0.5   \n",
       "24     854          4                     3                            1.0   \n",
       "\n",
       "   deaths_trend    month  year  \n",
       "0           NaN  2021-01  2021  \n",
       "1           NaN  2021-01  2021  \n",
       "2           NaN  2021-01  2021  \n",
       "3           NaN  2021-01  2021  \n",
       "4           NaN  2021-01  2021  \n",
       "5           NaN  2021-01  2021  \n",
       "6           NaN  2021-01  2021  \n",
       "7           NaN  2021-01  2021  \n",
       "8           NaN  2021-01  2021  \n",
       "9           NaN  2021-01  2021  \n",
       "10          NaN  2021-01  2021  \n",
       "11          NaN  2021-01  2021  \n",
       "12          NaN  2021-01  2021  \n",
       "13          NaN  2021-01  2021  \n",
       "14          NaN  2021-01  2021  \n",
       "15          NaN  2021-01  2021  \n",
       "16          NaN  2021-01  2021  \n",
       "17          NaN  2021-01  2021  \n",
       "18          NaN  2021-01  2021  \n",
       "19          NaN  2021-01  2021  \n",
       "20          NaN  2021-01  2021  \n",
       "21     downward  2021-01  2021  \n",
       "22     downward  2021-01  2021  \n",
       "23     downward  2021-01  2021  \n",
       "24       stable  2021-01  2021  "
      ]
     },
     "execution_count": 17,
     "metadata": {},
     "output_type": "execute_result"
    }
   ],
   "source": [
    "# resultado final\n",
    "cases.head(n=25)"
   ]
  },
  {
   "cell_type": "markdown",
   "id": "7d9f69dc",
   "metadata": {
    "id": "KSgjP--1JS9R",
    "papermill": {
     "duration": 0.015786,
     "end_time": "2023-11-23T19:22:30.825510",
     "exception": false,
     "start_time": "2023-11-23T19:22:30.809724",
     "status": "completed"
    },
    "tags": []
   },
   "source": [
    "### **2.1.3\\. Carregamento**"
   ]
  },
  {
   "cell_type": "markdown",
   "id": "5e85821a",
   "metadata": {
    "id": "b1vD9VLafQwG",
    "papermill": {
     "duration": 0.015558,
     "end_time": "2023-11-23T19:22:30.857128",
     "exception": false,
     "start_time": "2023-11-23T19:22:30.841570",
     "status": "completed"
    },
    "tags": []
   },
   "source": [
    "Com os dados manipulados, é hora persisti-lo em disco, fazer o seu download e carrega-lo no Google Looker Studio."
   ]
  },
  {
   "cell_type": "code",
   "execution_count": 18,
   "id": "748c235f",
   "metadata": {
    "execution": {
     "iopub.execute_input": "2023-11-23T19:22:30.891192Z",
     "iopub.status.busy": "2023-11-23T19:22:30.890580Z",
     "iopub.status.idle": "2023-11-23T19:22:30.902407Z",
     "shell.execute_reply": "2023-11-23T19:22:30.901608Z"
    },
    "id": "mAazd-g0fQwG",
    "papermill": {
     "duration": 0.031613,
     "end_time": "2023-11-23T19:22:30.904653",
     "exception": false,
     "start_time": "2023-11-23T19:22:30.873040",
     "status": "completed"
    },
    "tags": []
   },
   "outputs": [],
   "source": [
    "cases.to_csv('./covid-cases.csv', sep=',', index=False)"
   ]
  },
  {
   "cell_type": "markdown",
   "id": "14d9192d",
   "metadata": {
    "id": "hdHF6CVty8oN",
    "papermill": {
     "duration": 0.015662,
     "end_time": "2023-11-23T19:22:30.936596",
     "exception": false,
     "start_time": "2023-11-23T19:22:30.920934",
     "status": "completed"
    },
    "tags": []
   },
   "source": [
    "## **2.2. Vacinação**"
   ]
  },
  {
   "cell_type": "markdown",
   "id": "fb3cdbdd",
   "metadata": {
    "id": "4KimqDnGbHbI",
    "papermill": {
     "duration": 0.015715,
     "end_time": "2023-11-23T19:22:30.968210",
     "exception": false,
     "start_time": "2023-11-23T19:22:30.952495",
     "status": "completed"
    },
    "tags": []
   },
   "source": [
    "Vamos processar os dados de **vacinação** da universidade de Oxford."
   ]
  },
  {
   "cell_type": "markdown",
   "id": "0d0a66cd",
   "metadata": {
    "id": "b7BueGTF0k8z",
    "papermill": {
     "duration": 0.016058,
     "end_time": "2023-11-23T19:22:31.001082",
     "exception": false,
     "start_time": "2023-11-23T19:22:30.985024",
     "status": "completed"
    },
    "tags": []
   },
   "source": [
    "### **2.2.1\\. Extração**"
   ]
  },
  {
   "cell_type": "markdown",
   "id": "731ad516",
   "metadata": {
    "id": "ihoIVAXJ1L4z",
    "papermill": {
     "duration": 0.015737,
     "end_time": "2023-11-23T19:22:31.033615",
     "exception": false,
     "start_time": "2023-11-23T19:22:31.017878",
     "status": "completed"
    },
    "tags": []
   },
   "source": [
    "Por fim, vamos processar os dados de **vacinação** da universidade de Oxford."
   ]
  },
  {
   "cell_type": "code",
   "execution_count": 19,
   "id": "a52d5786",
   "metadata": {
    "execution": {
     "iopub.execute_input": "2023-11-23T19:22:31.067839Z",
     "iopub.status.busy": "2023-11-23T19:22:31.067104Z",
     "iopub.status.idle": "2023-11-23T19:22:43.735012Z",
     "shell.execute_reply": "2023-11-23T19:22:43.733942Z"
    },
    "id": "G8nM5lc0USbd",
    "papermill": {
     "duration": 12.688098,
     "end_time": "2023-11-23T19:22:43.737663",
     "exception": false,
     "start_time": "2023-11-23T19:22:31.049565",
     "status": "completed"
    },
    "tags": []
   },
   "outputs": [
    {
     "name": "stderr",
     "output_type": "stream",
     "text": [
      "/tmp/ipykernel_19/3783914749.py:2: FutureWarning: The argument 'infer_datetime_format' is deprecated and will be removed in a future version. A strict version of it is now the default, see https://pandas.pydata.org/pdeps/0004-consistent-to-datetime-parsing.html. You can safely remove this argument.\n",
      "  vaccines = pd.read_csv('https://covid.ourworldindata.org/data/owid-covid-data.csv', sep=',', parse_dates=[3], infer_datetime_format=True)\n"
     ]
    }
   ],
   "source": [
    "# declaração da variável com os dados brutos\n",
    "vaccines = pd.read_csv('https://covid.ourworldindata.org/data/owid-covid-data.csv', sep=',', parse_dates=[3], infer_datetime_format=True)"
   ]
  },
  {
   "cell_type": "code",
   "execution_count": 20,
   "id": "a77497a3",
   "metadata": {
    "execution": {
     "iopub.execute_input": "2023-11-23T19:22:43.772098Z",
     "iopub.status.busy": "2023-11-23T19:22:43.771734Z",
     "iopub.status.idle": "2023-11-23T19:22:43.797466Z",
     "shell.execute_reply": "2023-11-23T19:22:43.796344Z"
    },
    "id": "e4kmFIpkPm1s",
    "outputId": "78ae9d6f-47e8-403b-cfcc-684fd98a22bc",
    "papermill": {
     "duration": 0.045649,
     "end_time": "2023-11-23T19:22:43.799764",
     "exception": false,
     "start_time": "2023-11-23T19:22:43.754115",
     "status": "completed"
    },
    "tags": []
   },
   "outputs": [
    {
     "data": {
      "text/html": [
       "<div>\n",
       "<style scoped>\n",
       "    .dataframe tbody tr th:only-of-type {\n",
       "        vertical-align: middle;\n",
       "    }\n",
       "\n",
       "    .dataframe tbody tr th {\n",
       "        vertical-align: top;\n",
       "    }\n",
       "\n",
       "    .dataframe thead th {\n",
       "        text-align: right;\n",
       "    }\n",
       "</style>\n",
       "<table border=\"1\" class=\"dataframe\">\n",
       "  <thead>\n",
       "    <tr style=\"text-align: right;\">\n",
       "      <th></th>\n",
       "      <th>iso_code</th>\n",
       "      <th>continent</th>\n",
       "      <th>location</th>\n",
       "      <th>date</th>\n",
       "      <th>total_cases</th>\n",
       "      <th>new_cases</th>\n",
       "      <th>new_cases_smoothed</th>\n",
       "      <th>total_deaths</th>\n",
       "      <th>new_deaths</th>\n",
       "      <th>new_deaths_smoothed</th>\n",
       "      <th>...</th>\n",
       "      <th>male_smokers</th>\n",
       "      <th>handwashing_facilities</th>\n",
       "      <th>hospital_beds_per_thousand</th>\n",
       "      <th>life_expectancy</th>\n",
       "      <th>human_development_index</th>\n",
       "      <th>population</th>\n",
       "      <th>excess_mortality_cumulative_absolute</th>\n",
       "      <th>excess_mortality_cumulative</th>\n",
       "      <th>excess_mortality</th>\n",
       "      <th>excess_mortality_cumulative_per_million</th>\n",
       "    </tr>\n",
       "  </thead>\n",
       "  <tbody>\n",
       "    <tr>\n",
       "      <th>0</th>\n",
       "      <td>AFG</td>\n",
       "      <td>Asia</td>\n",
       "      <td>Afghanistan</td>\n",
       "      <td>2020-01-03</td>\n",
       "      <td>NaN</td>\n",
       "      <td>0.0</td>\n",
       "      <td>NaN</td>\n",
       "      <td>NaN</td>\n",
       "      <td>0.0</td>\n",
       "      <td>NaN</td>\n",
       "      <td>...</td>\n",
       "      <td>NaN</td>\n",
       "      <td>37.746</td>\n",
       "      <td>0.5</td>\n",
       "      <td>64.83</td>\n",
       "      <td>0.511</td>\n",
       "      <td>41128772.0</td>\n",
       "      <td>NaN</td>\n",
       "      <td>NaN</td>\n",
       "      <td>NaN</td>\n",
       "      <td>NaN</td>\n",
       "    </tr>\n",
       "    <tr>\n",
       "      <th>1</th>\n",
       "      <td>AFG</td>\n",
       "      <td>Asia</td>\n",
       "      <td>Afghanistan</td>\n",
       "      <td>2020-01-04</td>\n",
       "      <td>NaN</td>\n",
       "      <td>0.0</td>\n",
       "      <td>NaN</td>\n",
       "      <td>NaN</td>\n",
       "      <td>0.0</td>\n",
       "      <td>NaN</td>\n",
       "      <td>...</td>\n",
       "      <td>NaN</td>\n",
       "      <td>37.746</td>\n",
       "      <td>0.5</td>\n",
       "      <td>64.83</td>\n",
       "      <td>0.511</td>\n",
       "      <td>41128772.0</td>\n",
       "      <td>NaN</td>\n",
       "      <td>NaN</td>\n",
       "      <td>NaN</td>\n",
       "      <td>NaN</td>\n",
       "    </tr>\n",
       "    <tr>\n",
       "      <th>2</th>\n",
       "      <td>AFG</td>\n",
       "      <td>Asia</td>\n",
       "      <td>Afghanistan</td>\n",
       "      <td>2020-01-05</td>\n",
       "      <td>NaN</td>\n",
       "      <td>0.0</td>\n",
       "      <td>NaN</td>\n",
       "      <td>NaN</td>\n",
       "      <td>0.0</td>\n",
       "      <td>NaN</td>\n",
       "      <td>...</td>\n",
       "      <td>NaN</td>\n",
       "      <td>37.746</td>\n",
       "      <td>0.5</td>\n",
       "      <td>64.83</td>\n",
       "      <td>0.511</td>\n",
       "      <td>41128772.0</td>\n",
       "      <td>NaN</td>\n",
       "      <td>NaN</td>\n",
       "      <td>NaN</td>\n",
       "      <td>NaN</td>\n",
       "    </tr>\n",
       "    <tr>\n",
       "      <th>3</th>\n",
       "      <td>AFG</td>\n",
       "      <td>Asia</td>\n",
       "      <td>Afghanistan</td>\n",
       "      <td>2020-01-06</td>\n",
       "      <td>NaN</td>\n",
       "      <td>0.0</td>\n",
       "      <td>NaN</td>\n",
       "      <td>NaN</td>\n",
       "      <td>0.0</td>\n",
       "      <td>NaN</td>\n",
       "      <td>...</td>\n",
       "      <td>NaN</td>\n",
       "      <td>37.746</td>\n",
       "      <td>0.5</td>\n",
       "      <td>64.83</td>\n",
       "      <td>0.511</td>\n",
       "      <td>41128772.0</td>\n",
       "      <td>NaN</td>\n",
       "      <td>NaN</td>\n",
       "      <td>NaN</td>\n",
       "      <td>NaN</td>\n",
       "    </tr>\n",
       "    <tr>\n",
       "      <th>4</th>\n",
       "      <td>AFG</td>\n",
       "      <td>Asia</td>\n",
       "      <td>Afghanistan</td>\n",
       "      <td>2020-01-07</td>\n",
       "      <td>NaN</td>\n",
       "      <td>0.0</td>\n",
       "      <td>NaN</td>\n",
       "      <td>NaN</td>\n",
       "      <td>0.0</td>\n",
       "      <td>NaN</td>\n",
       "      <td>...</td>\n",
       "      <td>NaN</td>\n",
       "      <td>37.746</td>\n",
       "      <td>0.5</td>\n",
       "      <td>64.83</td>\n",
       "      <td>0.511</td>\n",
       "      <td>41128772.0</td>\n",
       "      <td>NaN</td>\n",
       "      <td>NaN</td>\n",
       "      <td>NaN</td>\n",
       "      <td>NaN</td>\n",
       "    </tr>\n",
       "  </tbody>\n",
       "</table>\n",
       "<p>5 rows × 67 columns</p>\n",
       "</div>"
      ],
      "text/plain": [
       "  iso_code continent     location       date  total_cases  new_cases  \\\n",
       "0      AFG      Asia  Afghanistan 2020-01-03          NaN        0.0   \n",
       "1      AFG      Asia  Afghanistan 2020-01-04          NaN        0.0   \n",
       "2      AFG      Asia  Afghanistan 2020-01-05          NaN        0.0   \n",
       "3      AFG      Asia  Afghanistan 2020-01-06          NaN        0.0   \n",
       "4      AFG      Asia  Afghanistan 2020-01-07          NaN        0.0   \n",
       "\n",
       "   new_cases_smoothed  total_deaths  new_deaths  new_deaths_smoothed  ...  \\\n",
       "0                 NaN           NaN         0.0                  NaN  ...   \n",
       "1                 NaN           NaN         0.0                  NaN  ...   \n",
       "2                 NaN           NaN         0.0                  NaN  ...   \n",
       "3                 NaN           NaN         0.0                  NaN  ...   \n",
       "4                 NaN           NaN         0.0                  NaN  ...   \n",
       "\n",
       "   male_smokers  handwashing_facilities  hospital_beds_per_thousand  \\\n",
       "0           NaN                  37.746                         0.5   \n",
       "1           NaN                  37.746                         0.5   \n",
       "2           NaN                  37.746                         0.5   \n",
       "3           NaN                  37.746                         0.5   \n",
       "4           NaN                  37.746                         0.5   \n",
       "\n",
       "   life_expectancy  human_development_index  population  \\\n",
       "0            64.83                    0.511  41128772.0   \n",
       "1            64.83                    0.511  41128772.0   \n",
       "2            64.83                    0.511  41128772.0   \n",
       "3            64.83                    0.511  41128772.0   \n",
       "4            64.83                    0.511  41128772.0   \n",
       "\n",
       "   excess_mortality_cumulative_absolute  excess_mortality_cumulative  \\\n",
       "0                                   NaN                          NaN   \n",
       "1                                   NaN                          NaN   \n",
       "2                                   NaN                          NaN   \n",
       "3                                   NaN                          NaN   \n",
       "4                                   NaN                          NaN   \n",
       "\n",
       "   excess_mortality  excess_mortality_cumulative_per_million  \n",
       "0               NaN                                      NaN  \n",
       "1               NaN                                      NaN  \n",
       "2               NaN                                      NaN  \n",
       "3               NaN                                      NaN  \n",
       "4               NaN                                      NaN  \n",
       "\n",
       "[5 rows x 67 columns]"
      ]
     },
     "execution_count": 20,
     "metadata": {},
     "output_type": "execute_result"
    }
   ],
   "source": [
    "vaccines.head()"
   ]
  },
  {
   "cell_type": "code",
   "execution_count": 21,
   "id": "7baa3686",
   "metadata": {
    "execution": {
     "iopub.execute_input": "2023-11-23T19:22:43.835414Z",
     "iopub.status.busy": "2023-11-23T19:22:43.834688Z",
     "iopub.status.idle": "2023-11-23T19:22:43.855728Z",
     "shell.execute_reply": "2023-11-23T19:22:43.854887Z"
    },
    "id": "4RNfnnUZW6DY",
    "papermill": {
     "duration": 0.041585,
     "end_time": "2023-11-23T19:22:43.858032",
     "exception": false,
     "start_time": "2023-11-23T19:22:43.816447",
     "status": "completed"
    },
    "tags": []
   },
   "outputs": [],
   "source": [
    "# selecionando as colunas de interesse e as linhas referentes aos Brasil\n",
    "vaccines = vaccines.query('location == \"Brazil\"').reset_index(drop=True)\n",
    "vaccines = vaccines[['location', 'population', 'total_vaccinations', 'people_vaccinated', 'people_fully_vaccinated', 'total_boosters', 'date']]"
   ]
  },
  {
   "cell_type": "code",
   "execution_count": 22,
   "id": "520b2af6",
   "metadata": {
    "execution": {
     "iopub.execute_input": "2023-11-23T19:22:43.893373Z",
     "iopub.status.busy": "2023-11-23T19:22:43.892756Z",
     "iopub.status.idle": "2023-11-23T19:22:43.906373Z",
     "shell.execute_reply": "2023-11-23T19:22:43.905277Z"
    },
    "id": "FixAzxuy35AQ",
    "outputId": "9c6872f3-2216-4148-9df6-98db29736e94",
    "papermill": {
     "duration": 0.034047,
     "end_time": "2023-11-23T19:22:43.908585",
     "exception": false,
     "start_time": "2023-11-23T19:22:43.874538",
     "status": "completed"
    },
    "tags": []
   },
   "outputs": [
    {
     "data": {
      "text/html": [
       "<div>\n",
       "<style scoped>\n",
       "    .dataframe tbody tr th:only-of-type {\n",
       "        vertical-align: middle;\n",
       "    }\n",
       "\n",
       "    .dataframe tbody tr th {\n",
       "        vertical-align: top;\n",
       "    }\n",
       "\n",
       "    .dataframe thead th {\n",
       "        text-align: right;\n",
       "    }\n",
       "</style>\n",
       "<table border=\"1\" class=\"dataframe\">\n",
       "  <thead>\n",
       "    <tr style=\"text-align: right;\">\n",
       "      <th></th>\n",
       "      <th>location</th>\n",
       "      <th>population</th>\n",
       "      <th>total_vaccinations</th>\n",
       "      <th>people_vaccinated</th>\n",
       "      <th>people_fully_vaccinated</th>\n",
       "      <th>total_boosters</th>\n",
       "      <th>date</th>\n",
       "    </tr>\n",
       "  </thead>\n",
       "  <tbody>\n",
       "    <tr>\n",
       "      <th>0</th>\n",
       "      <td>Brazil</td>\n",
       "      <td>215313504.0</td>\n",
       "      <td>NaN</td>\n",
       "      <td>NaN</td>\n",
       "      <td>NaN</td>\n",
       "      <td>NaN</td>\n",
       "      <td>2020-01-03</td>\n",
       "    </tr>\n",
       "    <tr>\n",
       "      <th>1</th>\n",
       "      <td>Brazil</td>\n",
       "      <td>215313504.0</td>\n",
       "      <td>NaN</td>\n",
       "      <td>NaN</td>\n",
       "      <td>NaN</td>\n",
       "      <td>NaN</td>\n",
       "      <td>2020-01-04</td>\n",
       "    </tr>\n",
       "    <tr>\n",
       "      <th>2</th>\n",
       "      <td>Brazil</td>\n",
       "      <td>215313504.0</td>\n",
       "      <td>NaN</td>\n",
       "      <td>NaN</td>\n",
       "      <td>NaN</td>\n",
       "      <td>NaN</td>\n",
       "      <td>2020-01-05</td>\n",
       "    </tr>\n",
       "    <tr>\n",
       "      <th>3</th>\n",
       "      <td>Brazil</td>\n",
       "      <td>215313504.0</td>\n",
       "      <td>NaN</td>\n",
       "      <td>NaN</td>\n",
       "      <td>NaN</td>\n",
       "      <td>NaN</td>\n",
       "      <td>2020-01-06</td>\n",
       "    </tr>\n",
       "    <tr>\n",
       "      <th>4</th>\n",
       "      <td>Brazil</td>\n",
       "      <td>215313504.0</td>\n",
       "      <td>NaN</td>\n",
       "      <td>NaN</td>\n",
       "      <td>NaN</td>\n",
       "      <td>NaN</td>\n",
       "      <td>2020-01-07</td>\n",
       "    </tr>\n",
       "  </tbody>\n",
       "</table>\n",
       "</div>"
      ],
      "text/plain": [
       "  location   population  total_vaccinations  people_vaccinated  \\\n",
       "0   Brazil  215313504.0                 NaN                NaN   \n",
       "1   Brazil  215313504.0                 NaN                NaN   \n",
       "2   Brazil  215313504.0                 NaN                NaN   \n",
       "3   Brazil  215313504.0                 NaN                NaN   \n",
       "4   Brazil  215313504.0                 NaN                NaN   \n",
       "\n",
       "   people_fully_vaccinated  total_boosters       date  \n",
       "0                      NaN             NaN 2020-01-03  \n",
       "1                      NaN             NaN 2020-01-04  \n",
       "2                      NaN             NaN 2020-01-05  \n",
       "3                      NaN             NaN 2020-01-06  \n",
       "4                      NaN             NaN 2020-01-07  "
      ]
     },
     "execution_count": 22,
     "metadata": {},
     "output_type": "execute_result"
    }
   ],
   "source": [
    "vaccines.head()"
   ]
  },
  {
   "cell_type": "markdown",
   "id": "5ede06d4",
   "metadata": {
    "id": "_7qw2s9w0mqW",
    "papermill": {
     "duration": 0.016666,
     "end_time": "2023-11-23T19:22:43.942161",
     "exception": false,
     "start_time": "2023-11-23T19:22:43.925495",
     "status": "completed"
    },
    "tags": []
   },
   "source": [
    "### **2.2.2\\. Wrangling**"
   ]
  },
  {
   "cell_type": "markdown",
   "id": "56bde732",
   "metadata": {
    "id": "L5CaqVEzzaYH",
    "papermill": {
     "duration": 0.016565,
     "end_time": "2023-11-23T19:22:43.975520",
     "exception": false,
     "start_time": "2023-11-23T19:22:43.958955",
     "status": "completed"
    },
    "tags": []
   },
   "source": [
    "Para a manipulação dos dados, vamos começar tratando os dados faltantes, a estratégia será a de preencher os buracos com o valor anterior válido mais próximo."
   ]
  },
  {
   "cell_type": "code",
   "execution_count": 23,
   "id": "88b2d0f5",
   "metadata": {
    "execution": {
     "iopub.execute_input": "2023-11-23T19:22:44.011489Z",
     "iopub.status.busy": "2023-11-23T19:22:44.010722Z",
     "iopub.status.idle": "2023-11-23T19:22:44.017068Z",
     "shell.execute_reply": "2023-11-23T19:22:44.016186Z"
    },
    "id": "GOH412CJflYV",
    "outputId": "d402956f-980b-4393-a4a9-dd67184f6a37",
    "papermill": {
     "duration": 0.026812,
     "end_time": "2023-11-23T19:22:44.019122",
     "exception": false,
     "start_time": "2023-11-23T19:22:43.992310",
     "status": "completed"
    },
    "tags": []
   },
   "outputs": [
    {
     "data": {
      "text/plain": [
       "(1420, 7)"
      ]
     },
     "execution_count": 23,
     "metadata": {},
     "output_type": "execute_result"
    }
   ],
   "source": [
    "vaccines.shape"
   ]
  },
  {
   "cell_type": "code",
   "execution_count": 24,
   "id": "4df040f9",
   "metadata": {
    "execution": {
     "iopub.execute_input": "2023-11-23T19:22:44.055685Z",
     "iopub.status.busy": "2023-11-23T19:22:44.055094Z",
     "iopub.status.idle": "2023-11-23T19:22:44.067062Z",
     "shell.execute_reply": "2023-11-23T19:22:44.065921Z"
    },
    "id": "QV6H5gl6flYW",
    "outputId": "5dc5388c-c3bb-4115-ea5e-e009a7c79c62",
    "papermill": {
     "duration": 0.033508,
     "end_time": "2023-11-23T19:22:44.069839",
     "exception": false,
     "start_time": "2023-11-23T19:22:44.036331",
     "status": "completed"
    },
    "tags": []
   },
   "outputs": [
    {
     "name": "stdout",
     "output_type": "stream",
     "text": [
      "<class 'pandas.core.frame.DataFrame'>\n",
      "RangeIndex: 1420 entries, 0 to 1419\n",
      "Data columns (total 7 columns):\n",
      " #   Column                   Non-Null Count  Dtype         \n",
      "---  ------                   --------------  -----         \n",
      " 0   location                 1420 non-null   object        \n",
      " 1   population               1420 non-null   float64       \n",
      " 2   total_vaccinations       695 non-null    float64       \n",
      " 3   people_vaccinated        691 non-null    float64       \n",
      " 4   people_fully_vaccinated  675 non-null    float64       \n",
      " 5   total_boosters           455 non-null    float64       \n",
      " 6   date                     1420 non-null   datetime64[ns]\n",
      "dtypes: datetime64[ns](1), float64(5), object(1)\n",
      "memory usage: 77.8+ KB\n"
     ]
    }
   ],
   "source": [
    "vaccines.info()"
   ]
  },
  {
   "cell_type": "code",
   "execution_count": 25,
   "id": "8e3c9e38",
   "metadata": {
    "execution": {
     "iopub.execute_input": "2023-11-23T19:22:44.106066Z",
     "iopub.status.busy": "2023-11-23T19:22:44.105513Z",
     "iopub.status.idle": "2023-11-23T19:22:44.113979Z",
     "shell.execute_reply": "2023-11-23T19:22:44.112902Z"
    },
    "id": "7UlhJa5M0fMz",
    "papermill": {
     "duration": 0.029271,
     "end_time": "2023-11-23T19:22:44.116172",
     "exception": false,
     "start_time": "2023-11-23T19:22:44.086901",
     "status": "completed"
    },
    "tags": []
   },
   "outputs": [],
   "source": [
    "# preenchendo os dados faltantes com o último valor válido\n",
    "vaccines = vaccines.fillna(method='ffill')"
   ]
  },
  {
   "cell_type": "markdown",
   "id": "1f1b2a4d",
   "metadata": {
    "id": "GibNnv1hfe8t",
    "papermill": {
     "duration": 0.016661,
     "end_time": "2023-11-23T19:22:44.150404",
     "exception": false,
     "start_time": "2023-11-23T19:22:44.133743",
     "status": "completed"
    },
    "tags": []
   },
   "source": [
    "Vamos também filtrar a base de dados de acordo com a coluna `date` para garantir que ambas as bases de dados tratam do mesmo período de tempo."
   ]
  },
  {
   "cell_type": "code",
   "execution_count": 26,
   "id": "c9d22ff6",
   "metadata": {
    "execution": {
     "iopub.execute_input": "2023-11-23T19:22:44.187184Z",
     "iopub.status.busy": "2023-11-23T19:22:44.186172Z",
     "iopub.status.idle": "2023-11-23T19:22:44.192977Z",
     "shell.execute_reply": "2023-11-23T19:22:44.191930Z"
    },
    "id": "bB8n5Nq0e51M",
    "papermill": {
     "duration": 0.027628,
     "end_time": "2023-11-23T19:22:44.195053",
     "exception": false,
     "start_time": "2023-11-23T19:22:44.167425",
     "status": "completed"
    },
    "tags": []
   },
   "outputs": [],
   "source": [
    "vaccines = vaccines[(vaccines['date'] >= '2021-01-01') & (vaccines['date'] <= '2021-12-31')].reset_index(drop=True)"
   ]
  },
  {
   "cell_type": "code",
   "execution_count": 27,
   "id": "bea15734",
   "metadata": {
    "execution": {
     "iopub.execute_input": "2023-11-23T19:22:44.232879Z",
     "iopub.status.busy": "2023-11-23T19:22:44.232477Z",
     "iopub.status.idle": "2023-11-23T19:22:44.238183Z",
     "shell.execute_reply": "2023-11-23T19:22:44.237171Z"
    },
    "id": "onD0FAQ2fuZG",
    "papermill": {
     "duration": 0.027382,
     "end_time": "2023-11-23T19:22:44.240466",
     "exception": false,
     "start_time": "2023-11-23T19:22:44.213084",
     "status": "completed"
    },
    "tags": []
   },
   "outputs": [],
   "source": [
    "# alterando o nome das coluna\n",
    "vaccines = vaccines.rename(\n",
    "  columns={\n",
    "    'location': 'country',\n",
    "    'total_vaccinations': 'total',\n",
    "    'people_vaccinated': 'one_shot',\n",
    "    'people_fully_vaccinated': 'two_shots',\n",
    "    'total_boosters': 'three_shots',\n",
    "  }\n",
    ")"
   ]
  },
  {
   "cell_type": "markdown",
   "id": "579ee0b2",
   "metadata": {
    "id": "3WEwZVW8zZdQ",
    "papermill": {
     "duration": 0.017603,
     "end_time": "2023-11-23T19:22:44.274880",
     "exception": false,
     "start_time": "2023-11-23T19:22:44.257277",
     "status": "completed"
    },
    "tags": []
   },
   "source": [
    "Afim de **enriquecer** a base de dados, vamos computar novas colunas."
   ]
  },
  {
   "cell_type": "markdown",
   "id": "2b17b38a",
   "metadata": {
    "id": "TtVVYdEn1xBu",
    "papermill": {
     "duration": 0.016371,
     "end_time": "2023-11-23T19:22:44.308675",
     "exception": false,
     "start_time": "2023-11-23T19:22:44.292304",
     "status": "completed"
    },
    "tags": []
   },
   "source": [
    " - Chaves temporais:"
   ]
  },
  {
   "cell_type": "code",
   "execution_count": 28,
   "id": "821b57e5",
   "metadata": {
    "execution": {
     "iopub.execute_input": "2023-11-23T19:22:44.344359Z",
     "iopub.status.busy": "2023-11-23T19:22:44.343986Z",
     "iopub.status.idle": "2023-11-23T19:22:44.354863Z",
     "shell.execute_reply": "2023-11-23T19:22:44.353781Z"
    },
    "id": "69n_u8z-fuZI",
    "papermill": {
     "duration": 0.031011,
     "end_time": "2023-11-23T19:22:44.356998",
     "exception": false,
     "start_time": "2023-11-23T19:22:44.325987",
     "status": "completed"
    },
    "tags": []
   },
   "outputs": [],
   "source": [
    "vaccines['month'] = vaccines['date'].apply(lambda date: date.strftime('%Y-%m'))\n",
    "vaccines['year']  = vaccines['date'].apply(lambda date: date.strftime('%Y'))"
   ]
  },
  {
   "cell_type": "markdown",
   "id": "aea7692e",
   "metadata": {
    "id": "RToFxe8s13WZ",
    "papermill": {
     "duration": 0.01901,
     "end_time": "2023-11-23T19:22:44.393126",
     "exception": false,
     "start_time": "2023-11-23T19:22:44.374116",
     "status": "completed"
    },
    "tags": []
   },
   "source": [
    " - Dados relativos:"
   ]
  },
  {
   "cell_type": "code",
   "execution_count": 29,
   "id": "ef93a53e",
   "metadata": {
    "execution": {
     "iopub.execute_input": "2023-11-23T19:22:44.429683Z",
     "iopub.status.busy": "2023-11-23T19:22:44.428619Z",
     "iopub.status.idle": "2023-11-23T19:22:44.437039Z",
     "shell.execute_reply": "2023-11-23T19:22:44.436000Z"
    },
    "id": "0p5fH8yI160u",
    "papermill": {
     "duration": 0.02889,
     "end_time": "2023-11-23T19:22:44.439201",
     "exception": false,
     "start_time": "2023-11-23T19:22:44.410311",
     "status": "completed"
    },
    "tags": []
   },
   "outputs": [],
   "source": [
    "vaccines['one_shot_perc'] = round(vaccines['one_shot'] / vaccines['population'], 4)\n",
    "vaccines['two_shots_perc'] = round(vaccines['two_shots'] / vaccines['population'], 4)\n",
    "vaccines['three_shots_perc'] = round(vaccines['three_shots'] / vaccines['population'], 4)"
   ]
  },
  {
   "cell_type": "code",
   "execution_count": 30,
   "id": "3f8f8240",
   "metadata": {
    "execution": {
     "iopub.execute_input": "2023-11-23T19:22:44.481241Z",
     "iopub.status.busy": "2023-11-23T19:22:44.480323Z",
     "iopub.status.idle": "2023-11-23T19:22:44.493972Z",
     "shell.execute_reply": "2023-11-23T19:22:44.492806Z"
    },
    "id": "bkebNuXF024g",
    "papermill": {
     "duration": 0.040482,
     "end_time": "2023-11-23T19:22:44.497066",
     "exception": false,
     "start_time": "2023-11-23T19:22:44.456584",
     "status": "completed"
    },
    "tags": []
   },
   "outputs": [],
   "source": [
    "# type casting das colunas\n",
    "vaccines['population'] = vaccines['population'].astype('Int64')\n",
    "vaccines['total'] = vaccines['total'].astype('Int64')\n",
    "vaccines['one_shot'] = vaccines['one_shot'].astype('Int64')\n",
    "vaccines['two_shots'] = vaccines['two_shots'].astype('Int64')\n",
    "vaccines['three_shots'] = vaccines['three_shots'].astype('Int64')"
   ]
  },
  {
   "cell_type": "code",
   "execution_count": 31,
   "id": "e9ea4a17",
   "metadata": {
    "execution": {
     "iopub.execute_input": "2023-11-23T19:22:44.542336Z",
     "iopub.status.busy": "2023-11-23T19:22:44.541615Z",
     "iopub.status.idle": "2023-11-23T19:22:44.548686Z",
     "shell.execute_reply": "2023-11-23T19:22:44.547931Z"
    },
    "id": "GRqAQTFxfuZJ",
    "papermill": {
     "duration": 0.029747,
     "end_time": "2023-11-23T19:22:44.550712",
     "exception": false,
     "start_time": "2023-11-23T19:22:44.520965",
     "status": "completed"
    },
    "tags": []
   },
   "outputs": [],
   "source": [
    "# reorganizando as colunas\n",
    "vaccines = vaccines[['date', 'country', 'population', 'total', 'one_shot', 'one_shot_perc', 'two_shots', 'two_shots_perc', 'three_shots', 'three_shots_perc', 'month', 'year']]"
   ]
  },
  {
   "cell_type": "code",
   "execution_count": 32,
   "id": "dffa8d02",
   "metadata": {
    "execution": {
     "iopub.execute_input": "2023-11-23T19:22:44.587473Z",
     "iopub.status.busy": "2023-11-23T19:22:44.586376Z",
     "iopub.status.idle": "2023-11-23T19:22:44.604682Z",
     "shell.execute_reply": "2023-11-23T19:22:44.603753Z"
    },
    "id": "RqeuGtCPzXmj",
    "outputId": "47fb7345-b8f3-4303-8390-4689a72049a9",
    "papermill": {
     "duration": 0.039122,
     "end_time": "2023-11-23T19:22:44.606726",
     "exception": false,
     "start_time": "2023-11-23T19:22:44.567604",
     "status": "completed"
    },
    "tags": []
   },
   "outputs": [
    {
     "data": {
      "text/html": [
       "<div>\n",
       "<style scoped>\n",
       "    .dataframe tbody tr th:only-of-type {\n",
       "        vertical-align: middle;\n",
       "    }\n",
       "\n",
       "    .dataframe tbody tr th {\n",
       "        vertical-align: top;\n",
       "    }\n",
       "\n",
       "    .dataframe thead th {\n",
       "        text-align: right;\n",
       "    }\n",
       "</style>\n",
       "<table border=\"1\" class=\"dataframe\">\n",
       "  <thead>\n",
       "    <tr style=\"text-align: right;\">\n",
       "      <th></th>\n",
       "      <th>date</th>\n",
       "      <th>country</th>\n",
       "      <th>population</th>\n",
       "      <th>total</th>\n",
       "      <th>one_shot</th>\n",
       "      <th>one_shot_perc</th>\n",
       "      <th>two_shots</th>\n",
       "      <th>two_shots_perc</th>\n",
       "      <th>three_shots</th>\n",
       "      <th>three_shots_perc</th>\n",
       "      <th>month</th>\n",
       "      <th>year</th>\n",
       "    </tr>\n",
       "  </thead>\n",
       "  <tbody>\n",
       "    <tr>\n",
       "      <th>360</th>\n",
       "      <td>2021-12-27</td>\n",
       "      <td>Brazil</td>\n",
       "      <td>215313504</td>\n",
       "      <td>329011365</td>\n",
       "      <td>165952037</td>\n",
       "      <td>0.7707</td>\n",
       "      <td>142764283</td>\n",
       "      <td>0.6631</td>\n",
       "      <td>25218893</td>\n",
       "      <td>0.1171</td>\n",
       "      <td>2021-12</td>\n",
       "      <td>2021</td>\n",
       "    </tr>\n",
       "    <tr>\n",
       "      <th>361</th>\n",
       "      <td>2021-12-28</td>\n",
       "      <td>Brazil</td>\n",
       "      <td>215313504</td>\n",
       "      <td>329861730</td>\n",
       "      <td>166062249</td>\n",
       "      <td>0.7713</td>\n",
       "      <td>142965728</td>\n",
       "      <td>0.6640</td>\n",
       "      <td>25758909</td>\n",
       "      <td>0.1196</td>\n",
       "      <td>2021-12</td>\n",
       "      <td>2021</td>\n",
       "    </tr>\n",
       "    <tr>\n",
       "      <th>362</th>\n",
       "      <td>2021-12-29</td>\n",
       "      <td>Brazil</td>\n",
       "      <td>215313504</td>\n",
       "      <td>330718457</td>\n",
       "      <td>166143380</td>\n",
       "      <td>0.7716</td>\n",
       "      <td>143282084</td>\n",
       "      <td>0.6655</td>\n",
       "      <td>26219623</td>\n",
       "      <td>0.1218</td>\n",
       "      <td>2021-12</td>\n",
       "      <td>2021</td>\n",
       "    </tr>\n",
       "    <tr>\n",
       "      <th>363</th>\n",
       "      <td>2021-12-30</td>\n",
       "      <td>Brazil</td>\n",
       "      <td>215313504</td>\n",
       "      <td>331164041</td>\n",
       "      <td>166185628</td>\n",
       "      <td>0.7718</td>\n",
       "      <td>143398692</td>\n",
       "      <td>0.6660</td>\n",
       "      <td>26507937</td>\n",
       "      <td>0.1231</td>\n",
       "      <td>2021-12</td>\n",
       "      <td>2021</td>\n",
       "    </tr>\n",
       "    <tr>\n",
       "      <th>364</th>\n",
       "      <td>2021-12-31</td>\n",
       "      <td>Brazil</td>\n",
       "      <td>215313504</td>\n",
       "      <td>331273910</td>\n",
       "      <td>166195505</td>\n",
       "      <td>0.7719</td>\n",
       "      <td>143436012</td>\n",
       "      <td>0.6662</td>\n",
       "      <td>26571077</td>\n",
       "      <td>0.1234</td>\n",
       "      <td>2021-12</td>\n",
       "      <td>2021</td>\n",
       "    </tr>\n",
       "  </tbody>\n",
       "</table>\n",
       "</div>"
      ],
      "text/plain": [
       "          date country  population      total   one_shot  one_shot_perc  \\\n",
       "360 2021-12-27  Brazil   215313504  329011365  165952037         0.7707   \n",
       "361 2021-12-28  Brazil   215313504  329861730  166062249         0.7713   \n",
       "362 2021-12-29  Brazil   215313504  330718457  166143380         0.7716   \n",
       "363 2021-12-30  Brazil   215313504  331164041  166185628         0.7718   \n",
       "364 2021-12-31  Brazil   215313504  331273910  166195505         0.7719   \n",
       "\n",
       "     two_shots  two_shots_perc  three_shots  three_shots_perc    month  year  \n",
       "360  142764283          0.6631     25218893            0.1171  2021-12  2021  \n",
       "361  142965728          0.6640     25758909            0.1196  2021-12  2021  \n",
       "362  143282084          0.6655     26219623            0.1218  2021-12  2021  \n",
       "363  143398692          0.6660     26507937            0.1231  2021-12  2021  \n",
       "364  143436012          0.6662     26571077            0.1234  2021-12  2021  "
      ]
     },
     "execution_count": 32,
     "metadata": {},
     "output_type": "execute_result"
    }
   ],
   "source": [
    "# resultado final\n",
    "vaccines.tail()"
   ]
  },
  {
   "cell_type": "markdown",
   "id": "dfa9c983",
   "metadata": {
    "id": "sKTKiCHy0oHn",
    "papermill": {
     "duration": 0.016611,
     "end_time": "2023-11-23T19:22:44.640495",
     "exception": false,
     "start_time": "2023-11-23T19:22:44.623884",
     "status": "completed"
    },
    "tags": []
   },
   "source": [
    "### **2.2.3\\. Carregamento**"
   ]
  },
  {
   "cell_type": "code",
   "execution_count": 33,
   "id": "2a3306da",
   "metadata": {
    "execution": {
     "iopub.execute_input": "2023-11-23T19:22:44.676348Z",
     "iopub.status.busy": "2023-11-23T19:22:44.675666Z",
     "iopub.status.idle": "2023-11-23T19:22:44.684434Z",
     "shell.execute_reply": "2023-11-23T19:22:44.683722Z"
    },
    "id": "ur-OHsXIWN_-",
    "papermill": {
     "duration": 0.029415,
     "end_time": "2023-11-23T19:22:44.686733",
     "exception": false,
     "start_time": "2023-11-23T19:22:44.657318",
     "status": "completed"
    },
    "tags": []
   },
   "outputs": [],
   "source": [
    "vaccines.to_csv('./covid-vaccines.csv', sep=',', index=False)"
   ]
  },
  {
   "cell_type": "markdown",
   "id": "f4163d61",
   "metadata": {
    "id": "PD0FiM7UJOGT",
    "papermill": {
     "duration": 0.016727,
     "end_time": "2023-11-23T19:22:44.720681",
     "exception": false,
     "start_time": "2023-11-23T19:22:44.703954",
     "status": "completed"
    },
    "tags": []
   },
   "source": [
    "# 3\\. Exploração Interativa de Dados"
   ]
  },
  {
   "cell_type": "markdown",
   "id": "2956a503",
   "metadata": {
    "id": "AAwJC4RyS0xa",
    "papermill": {
     "duration": 0.016822,
     "end_time": "2023-11-23T19:22:44.754410",
     "exception": false,
     "start_time": "2023-11-23T19:22:44.737588",
     "status": "completed"
    },
    "tags": []
   },
   "source": [
    "### **3.1. KPIs**"
   ]
  },
  {
   "cell_type": "markdown",
   "id": "a8553a5b",
   "metadata": {
    "id": "9LIHnwDuiN47",
    "papermill": {
     "duration": 0.017421,
     "end_time": "2023-11-23T19:22:44.788646",
     "exception": false,
     "start_time": "2023-11-23T19:22:44.771225",
     "status": "completed"
    },
    "tags": []
   },
   "source": [
    "O dashboard de dados contem os seguintes indicadores chaves de desempenho (*key performance indicator* ou KPI) consolidados:"
   ]
  },
  {
   "cell_type": "markdown",
   "id": "695a0e9a",
   "metadata": {
    "id": "rllIx255dOOu",
    "papermill": {
     "duration": 0.016637,
     "end_time": "2023-11-23T19:22:44.822733",
     "exception": false,
     "start_time": "2023-11-23T19:22:44.806096",
     "status": "completed"
    },
    "tags": []
   },
   "source": [
    "1. Casos e mortes nas 24 horas;\n",
    "1. Média móvel (7 dias) de casos e mortes;\n",
    "1. Tendência de casos e mortes;\n",
    "1. Proporção de vacinados com 1ª, 2ª e 3ª doses."
   ]
  },
  {
   "cell_type": "markdown",
   "id": "b51781e9",
   "metadata": {
    "id": "QGWv8lw5YdUC",
    "papermill": {
     "duration": 0.016584,
     "end_time": "2023-11-23T19:22:44.856164",
     "exception": false,
     "start_time": "2023-11-23T19:22:44.839580",
     "status": "completed"
    },
    "tags": []
   },
   "source": [
    "### **3.2. EDA**"
   ]
  },
  {
   "cell_type": "markdown",
   "id": "fa50c313",
   "metadata": {
    "id": "AZPbGM3cdOyi",
    "papermill": {
     "duration": 0.017157,
     "end_time": "2023-11-23T19:22:44.890359",
     "exception": false,
     "start_time": "2023-11-23T19:22:44.873202",
     "status": "completed"
    },
    "tags": []
   },
   "source": [
    "O dashboard de dados contem os seguintes gráficos para a análise exploratória de dados (*exploratory data analysis*\n",
    "ou EDA) interativa:"
   ]
  },
  {
   "cell_type": "markdown",
   "id": "932e4219",
   "metadata": {
    "id": "QuzfB5PmYjS9",
    "papermill": {
     "duration": 0.017331,
     "end_time": "2023-11-23T19:22:44.925975",
     "exception": false,
     "start_time": "2023-11-23T19:22:44.908644",
     "status": "completed"
    },
    "tags": []
   },
   "source": [
    "1. Distribuição do números de casos e mortes ao longo do tempo;\n",
    "1. Distribuição da média móvel (7 dias) do números de casos e mortes ao longo do tempo;\n",
    "1. Distribuição geográfica dos casos por estado por dia."
   ]
  }
 ],
 "metadata": {
  "colab": {
   "provenance": [],
   "toc_visible": true
  },
  "kaggle": {
   "accelerator": "none",
   "dataSources": [],
   "dockerImageVersionId": 30587,
   "isGpuEnabled": false,
   "isInternetEnabled": true,
   "language": "python",
   "sourceType": "notebook"
  },
  "kernelspec": {
   "display_name": "Python 3",
   "language": "python",
   "name": "python3"
  },
  "language_info": {
   "codemirror_mode": {
    "name": "ipython",
    "version": 3
   },
   "file_extension": ".py",
   "mimetype": "text/x-python",
   "name": "python",
   "nbconvert_exporter": "python",
   "pygments_lexer": "ipython3",
   "version": "3.10.12"
  },
  "papermill": {
   "default_parameters": {},
   "duration": 220.98218,
   "end_time": "2023-11-23T19:22:45.464309",
   "environment_variables": {},
   "exception": null,
   "input_path": "__notebook__.ipynb",
   "output_path": "__notebook__.ipynb",
   "parameters": {},
   "start_time": "2023-11-23T19:19:04.482129",
   "version": "2.4.0"
  }
 },
 "nbformat": 4,
 "nbformat_minor": 5
}
